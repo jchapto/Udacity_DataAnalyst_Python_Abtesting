{
 "cells": [
  {
   "cell_type": "markdown",
   "metadata": {},
   "source": [
    "# Analyze A/B Test Results \n",
    "\n",
    "This project will assure you have mastered the subjects covered in the statistics lessons. We have organized the current notebook into the following sections: \n",
    "\n",
    "- [Introduction](#intro)\n",
    "- [Part I - Probability](#probability)\n",
    "- [Part II - A/B Test](#ab_test)\n",
    "- [Part III - Regression](#regression)\n",
    "- [Final Check](#finalcheck)\n",
    "- [Submission](#submission)\n",
    "\n",
    "Specific programming tasks are marked with a **ToDo** tag. \n",
    "\n",
    "<a id='intro'></a>\n",
    "## Introduction\n",
    "\n",
    "A/B tests are very commonly performed by data analysts and data scientists. For this project, you will be working to understand the results of an A/B test run by an e-commerce website.  Your goal is to work through this notebook to help the company understand if they should:\n",
    "- Implement the new webpage, \n",
    "- Keep the old webpage, or \n",
    "- Perhaps run the experiment longer to make their decision.\n",
    "\n",
    "Each **ToDo** task below has an associated quiz present in the classroom.  Though the classroom quizzes are **not necessary** to complete the project, they help ensure you are on the right track as you work through the project, and you can feel more confident in your final submission meeting the [rubric](https://review.udacity.com/#!/rubrics/1214/view) specification. \n",
    "\n",
    "\n",
    "<a id='probability'></a>\n",
    "## Part I - Probability\n",
    "\n",
    "To get started, let's import our libraries."
   ]
  },
  {
   "cell_type": "code",
   "execution_count": 1,
   "metadata": {},
   "outputs": [],
   "source": [
    "import pandas as pd\n",
    "import numpy as np\n",
    "import random\n",
    "import matplotlib.pyplot as plt\n",
    "%matplotlib inline\n",
    "#We are setting the seed to assure you get the same answers on quizzes as we set up\n",
    "random.seed(42)"
   ]
  },
  {
   "cell_type": "markdown",
   "metadata": {},
   "source": [
    "### ToDo 1.1\n",
    "Now, read in the `ab_data.csv` data. Store it in `df`. Below is the description of the data, there are a total of 5 columns:\n",
    "\n",
    "<center>\n",
    "\n",
    "|Data columns|Purpose|Valid values|\n",
    "| ------------- |:-------------| -----:|\n",
    "|user_id|Unique ID|Int64 values|\n",
    "|timestamp|Time stamp when the user visited the webpage|-|\n",
    "|group|In the current A/B experiment, the users are categorized into two broad groups. <br>The `control` group users are expected to be served with `old_page`; and `treatment` group users are matched with the `new_page`. <br>However, **some inaccurate rows** are present in the initial data, such as a `control` group user is matched with a `new_page`. |`['control', 'treatment']`|\n",
    "|landing_page|It denotes whether the user visited the old or new webpage.|`['old_page', 'new_page']`|\n",
    "|converted|It denotes whether the user decided to pay for the company's product. Here, `1` means yes, the user bought the product.|`[0, 1]`|\n",
    "</center>\n",
    "Use your dataframe to answer the questions in Quiz 1 of the classroom.\n",
    "\n",
    "\n",
    "**a.** Read in the dataset from the `ab_data.csv` file and take a look at the top few rows here:"
   ]
  },
  {
   "cell_type": "code",
   "execution_count": 2,
   "metadata": {},
   "outputs": [
    {
     "data": {
      "text/html": [
       "<div>\n",
       "<style scoped>\n",
       "    .dataframe tbody tr th:only-of-type {\n",
       "        vertical-align: middle;\n",
       "    }\n",
       "\n",
       "    .dataframe tbody tr th {\n",
       "        vertical-align: top;\n",
       "    }\n",
       "\n",
       "    .dataframe thead th {\n",
       "        text-align: right;\n",
       "    }\n",
       "</style>\n",
       "<table border=\"1\" class=\"dataframe\">\n",
       "  <thead>\n",
       "    <tr style=\"text-align: right;\">\n",
       "      <th></th>\n",
       "      <th>user_id</th>\n",
       "      <th>timestamp</th>\n",
       "      <th>group</th>\n",
       "      <th>landing_page</th>\n",
       "      <th>converted</th>\n",
       "    </tr>\n",
       "  </thead>\n",
       "  <tbody>\n",
       "    <tr>\n",
       "      <th>0</th>\n",
       "      <td>851104</td>\n",
       "      <td>2017-01-21 22:11:48.556739</td>\n",
       "      <td>control</td>\n",
       "      <td>old_page</td>\n",
       "      <td>0</td>\n",
       "    </tr>\n",
       "    <tr>\n",
       "      <th>1</th>\n",
       "      <td>804228</td>\n",
       "      <td>2017-01-12 08:01:45.159739</td>\n",
       "      <td>control</td>\n",
       "      <td>old_page</td>\n",
       "      <td>0</td>\n",
       "    </tr>\n",
       "    <tr>\n",
       "      <th>2</th>\n",
       "      <td>661590</td>\n",
       "      <td>2017-01-11 16:55:06.154213</td>\n",
       "      <td>treatment</td>\n",
       "      <td>new_page</td>\n",
       "      <td>0</td>\n",
       "    </tr>\n",
       "    <tr>\n",
       "      <th>3</th>\n",
       "      <td>853541</td>\n",
       "      <td>2017-01-08 18:28:03.143765</td>\n",
       "      <td>treatment</td>\n",
       "      <td>new_page</td>\n",
       "      <td>0</td>\n",
       "    </tr>\n",
       "    <tr>\n",
       "      <th>4</th>\n",
       "      <td>864975</td>\n",
       "      <td>2017-01-21 01:52:26.210827</td>\n",
       "      <td>control</td>\n",
       "      <td>old_page</td>\n",
       "      <td>1</td>\n",
       "    </tr>\n",
       "  </tbody>\n",
       "</table>\n",
       "</div>"
      ],
      "text/plain": [
       "   user_id                   timestamp      group landing_page  converted\n",
       "0   851104  2017-01-21 22:11:48.556739    control     old_page          0\n",
       "1   804228  2017-01-12 08:01:45.159739    control     old_page          0\n",
       "2   661590  2017-01-11 16:55:06.154213  treatment     new_page          0\n",
       "3   853541  2017-01-08 18:28:03.143765  treatment     new_page          0\n",
       "4   864975  2017-01-21 01:52:26.210827    control     old_page          1"
      ]
     },
     "execution_count": 2,
     "metadata": {},
     "output_type": "execute_result"
    }
   ],
   "source": [
    "df = pd.read_csv('ab_data.csv')\n",
    "df.head()"
   ]
  },
  {
   "cell_type": "markdown",
   "metadata": {},
   "source": [
    "**b.** Use the cell below to find the number of rows in the dataset."
   ]
  },
  {
   "cell_type": "code",
   "execution_count": 3,
   "metadata": {
    "scrolled": true
   },
   "outputs": [
    {
     "name": "stdout",
     "output_type": "stream",
     "text": [
      "<class 'pandas.core.frame.DataFrame'>\n",
      "RangeIndex: 294478 entries, 0 to 294477\n",
      "Data columns (total 5 columns):\n",
      "user_id         294478 non-null int64\n",
      "timestamp       294478 non-null object\n",
      "group           294478 non-null object\n",
      "landing_page    294478 non-null object\n",
      "converted       294478 non-null int64\n",
      "dtypes: int64(2), object(3)\n",
      "memory usage: 11.2+ MB\n"
     ]
    }
   ],
   "source": [
    "df.info()"
   ]
  },
  {
   "cell_type": "markdown",
   "metadata": {},
   "source": [
    "294478"
   ]
  },
  {
   "cell_type": "markdown",
   "metadata": {},
   "source": [
    "**c.** The number of unique users in the dataset."
   ]
  },
  {
   "cell_type": "code",
   "execution_count": 4,
   "metadata": {
    "scrolled": true
   },
   "outputs": [
    {
     "data": {
      "text/plain": [
       "user_id         290584\n",
       "timestamp       294478\n",
       "group                2\n",
       "landing_page         2\n",
       "converted            2\n",
       "dtype: int64"
      ]
     },
     "execution_count": 4,
     "metadata": {},
     "output_type": "execute_result"
    }
   ],
   "source": [
    "df.nunique()"
   ]
  },
  {
   "cell_type": "markdown",
   "metadata": {},
   "source": [
    "290584"
   ]
  },
  {
   "cell_type": "markdown",
   "metadata": {
    "collapsed": true
   },
   "source": [
    "**d.** The proportion of users converted."
   ]
  },
  {
   "cell_type": "code",
   "execution_count": 5,
   "metadata": {},
   "outputs": [
    {
     "data": {
      "text/plain": [
       "0.11965919355605512"
      ]
     },
     "execution_count": 5,
     "metadata": {},
     "output_type": "execute_result"
    }
   ],
   "source": [
    "df.converted.mean()"
   ]
  },
  {
   "cell_type": "markdown",
   "metadata": {
    "collapsed": true
   },
   "source": [
    "**e.** The number of times when the \"group\" is `treatment` but \"landing_page\" is not a `new_page`."
   ]
  },
  {
   "cell_type": "code",
   "execution_count": 6,
   "metadata": {},
   "outputs": [
    {
     "data": {
      "text/plain": [
       "1965"
      ]
     },
     "execution_count": 6,
     "metadata": {},
     "output_type": "execute_result"
    }
   ],
   "source": [
    "df_errors1 = df.query('group == \"treatment\" and landing_page != \"new_page\"')\n",
    "df_errors1.shape[0]"
   ]
  },
  {
   "cell_type": "markdown",
   "metadata": {},
   "source": [
    "**f.** Do any of the rows have missing values?"
   ]
  },
  {
   "cell_type": "code",
   "execution_count": 7,
   "metadata": {},
   "outputs": [
    {
     "data": {
      "text/plain": [
       "user_id         0\n",
       "timestamp       0\n",
       "group           0\n",
       "landing_page    0\n",
       "converted       0\n",
       "dtype: int64"
      ]
     },
     "execution_count": 7,
     "metadata": {},
     "output_type": "execute_result"
    }
   ],
   "source": [
    "df.isna().sum()\n"
   ]
  },
  {
   "cell_type": "markdown",
   "metadata": {},
   "source": [
    "No"
   ]
  },
  {
   "cell_type": "markdown",
   "metadata": {},
   "source": [
    "### ToDo 1.2  \n",
    "In a particular row, the **group** and **landing_page** columns should have either of the following acceptable values:\n",
    "\n",
    "|user_id| timestamp|group|landing_page|converted|\n",
    "|---|---|---|---|---|\n",
    "|XXXX|XXXX|`control`| `old_page`|X |\n",
    "|XXXX|XXXX|`treatment`|`new_page`|X |\n",
    "\n",
    "\n",
    "It means, the `control` group users should match with `old_page`; and `treatment` group users should matched with the `new_page`. \n",
    "\n",
    "However, for the rows where `treatment` does not match with `new_page` or `control` does not match with `old_page`, we cannot be sure if such rows truly received the new or old wepage.  \n",
    "\n",
    "\n",
    "Use **Quiz 2** in the classroom to figure out how should we handle the rows where the group and landing_page columns don't match?\n",
    "\n",
    "**a.** Now use the answer to the quiz to create a new dataset that meets the specifications from the quiz.  Store your new dataframe in **df2**."
   ]
  },
  {
   "cell_type": "code",
   "execution_count": 8,
   "metadata": {},
   "outputs": [
    {
     "name": "stdout",
     "output_type": "stream",
     "text": [
      "<class 'pandas.core.frame.DataFrame'>\n",
      "Int64Index: 290585 entries, 0 to 294477\n",
      "Data columns (total 5 columns):\n",
      "user_id         290585 non-null int64\n",
      "timestamp       290585 non-null object\n",
      "group           290585 non-null object\n",
      "landing_page    290585 non-null object\n",
      "converted       290585 non-null int64\n",
      "dtypes: int64(2), object(3)\n",
      "memory usage: 13.3+ MB\n"
     ]
    }
   ],
   "source": [
    "# Remove the inaccurate rows, and store the result in a new dataframe df2\n",
    "df2 = df.drop(df[((df.group == 'control') & (df.landing_page == 'new_page')) | ((df.group == 'treatment') & (df.landing_page == 'old_page'))].index)\n",
    "df2.info()"
   ]
  },
  {
   "cell_type": "code",
   "execution_count": 9,
   "metadata": {},
   "outputs": [
    {
     "data": {
      "text/plain": [
       "0"
      ]
     },
     "execution_count": 9,
     "metadata": {},
     "output_type": "execute_result"
    }
   ],
   "source": [
    "# Double Check all of the incorrect rows were removed from df2 - \n",
    "# Output of the statement below should be 0\n",
    "df2[((df2['group'] == 'treatment') == (df2['landing_page'] == 'new_page')) == False].shape[0]"
   ]
  },
  {
   "cell_type": "markdown",
   "metadata": {},
   "source": [
    "### ToDo 1.3  \n",
    "Use **df2** and the cells below to answer questions for **Quiz 3** in the classroom."
   ]
  },
  {
   "cell_type": "markdown",
   "metadata": {},
   "source": [
    "**a.** How many unique **user_id**s are in **df2**?"
   ]
  },
  {
   "cell_type": "code",
   "execution_count": 10,
   "metadata": {},
   "outputs": [
    {
     "data": {
      "text/plain": [
       "290584"
      ]
     },
     "execution_count": 10,
     "metadata": {},
     "output_type": "execute_result"
    }
   ],
   "source": [
    "df2['user_id'].nunique()"
   ]
  },
  {
   "cell_type": "markdown",
   "metadata": {
    "collapsed": true
   },
   "source": [
    "**b.** There is one **user_id** repeated in **df2**.  What is it?"
   ]
  },
  {
   "cell_type": "code",
   "execution_count": 11,
   "metadata": {},
   "outputs": [
    {
     "data": {
      "text/html": [
       "<div>\n",
       "<style scoped>\n",
       "    .dataframe tbody tr th:only-of-type {\n",
       "        vertical-align: middle;\n",
       "    }\n",
       "\n",
       "    .dataframe tbody tr th {\n",
       "        vertical-align: top;\n",
       "    }\n",
       "\n",
       "    .dataframe thead th {\n",
       "        text-align: right;\n",
       "    }\n",
       "</style>\n",
       "<table border=\"1\" class=\"dataframe\">\n",
       "  <thead>\n",
       "    <tr style=\"text-align: right;\">\n",
       "      <th></th>\n",
       "      <th>user_id</th>\n",
       "      <th>timestamp</th>\n",
       "      <th>group</th>\n",
       "      <th>landing_page</th>\n",
       "      <th>converted</th>\n",
       "    </tr>\n",
       "  </thead>\n",
       "  <tbody>\n",
       "    <tr>\n",
       "      <th>2893</th>\n",
       "      <td>773192</td>\n",
       "      <td>2017-01-14 02:55:59.590927</td>\n",
       "      <td>treatment</td>\n",
       "      <td>new_page</td>\n",
       "      <td>0</td>\n",
       "    </tr>\n",
       "  </tbody>\n",
       "</table>\n",
       "</div>"
      ],
      "text/plain": [
       "      user_id                   timestamp      group landing_page  converted\n",
       "2893   773192  2017-01-14 02:55:59.590927  treatment     new_page          0"
      ]
     },
     "execution_count": 11,
     "metadata": {},
     "output_type": "execute_result"
    }
   ],
   "source": [
    "df2[df2[['user_id']].duplicated() == True]"
   ]
  },
  {
   "cell_type": "markdown",
   "metadata": {},
   "source": [
    "**c.** Display the rows for the duplicate **user_id**? "
   ]
  },
  {
   "cell_type": "code",
   "execution_count": 12,
   "metadata": {},
   "outputs": [
    {
     "data": {
      "text/html": [
       "<div>\n",
       "<style scoped>\n",
       "    .dataframe tbody tr th:only-of-type {\n",
       "        vertical-align: middle;\n",
       "    }\n",
       "\n",
       "    .dataframe tbody tr th {\n",
       "        vertical-align: top;\n",
       "    }\n",
       "\n",
       "    .dataframe thead th {\n",
       "        text-align: right;\n",
       "    }\n",
       "</style>\n",
       "<table border=\"1\" class=\"dataframe\">\n",
       "  <thead>\n",
       "    <tr style=\"text-align: right;\">\n",
       "      <th></th>\n",
       "      <th>user_id</th>\n",
       "      <th>timestamp</th>\n",
       "      <th>group</th>\n",
       "      <th>landing_page</th>\n",
       "      <th>converted</th>\n",
       "    </tr>\n",
       "  </thead>\n",
       "  <tbody>\n",
       "    <tr>\n",
       "      <th>1899</th>\n",
       "      <td>773192</td>\n",
       "      <td>2017-01-09 05:37:58.781806</td>\n",
       "      <td>treatment</td>\n",
       "      <td>new_page</td>\n",
       "      <td>0</td>\n",
       "    </tr>\n",
       "    <tr>\n",
       "      <th>2893</th>\n",
       "      <td>773192</td>\n",
       "      <td>2017-01-14 02:55:59.590927</td>\n",
       "      <td>treatment</td>\n",
       "      <td>new_page</td>\n",
       "      <td>0</td>\n",
       "    </tr>\n",
       "  </tbody>\n",
       "</table>\n",
       "</div>"
      ],
      "text/plain": [
       "      user_id                   timestamp      group landing_page  converted\n",
       "1899   773192  2017-01-09 05:37:58.781806  treatment     new_page          0\n",
       "2893   773192  2017-01-14 02:55:59.590927  treatment     new_page          0"
      ]
     },
     "execution_count": 12,
     "metadata": {},
     "output_type": "execute_result"
    }
   ],
   "source": [
    "df2[df2['user_id'] == 773192]"
   ]
  },
  {
   "cell_type": "markdown",
   "metadata": {},
   "source": [
    "**d.** Remove **one** of the rows with a duplicate **user_id**, from the **df2** dataframe."
   ]
  },
  {
   "cell_type": "code",
   "execution_count": 13,
   "metadata": {},
   "outputs": [
    {
     "data": {
      "text/html": [
       "<div>\n",
       "<style scoped>\n",
       "    .dataframe tbody tr th:only-of-type {\n",
       "        vertical-align: middle;\n",
       "    }\n",
       "\n",
       "    .dataframe tbody tr th {\n",
       "        vertical-align: top;\n",
       "    }\n",
       "\n",
       "    .dataframe thead th {\n",
       "        text-align: right;\n",
       "    }\n",
       "</style>\n",
       "<table border=\"1\" class=\"dataframe\">\n",
       "  <thead>\n",
       "    <tr style=\"text-align: right;\">\n",
       "      <th></th>\n",
       "      <th>user_id</th>\n",
       "      <th>timestamp</th>\n",
       "      <th>group</th>\n",
       "      <th>landing_page</th>\n",
       "      <th>converted</th>\n",
       "    </tr>\n",
       "  </thead>\n",
       "  <tbody>\n",
       "    <tr>\n",
       "      <th>1899</th>\n",
       "      <td>773192</td>\n",
       "      <td>2017-01-09 05:37:58.781806</td>\n",
       "      <td>treatment</td>\n",
       "      <td>new_page</td>\n",
       "      <td>0</td>\n",
       "    </tr>\n",
       "  </tbody>\n",
       "</table>\n",
       "</div>"
      ],
      "text/plain": [
       "      user_id                   timestamp      group landing_page  converted\n",
       "1899   773192  2017-01-09 05:37:58.781806  treatment     new_page          0"
      ]
     },
     "execution_count": 13,
     "metadata": {},
     "output_type": "execute_result"
    }
   ],
   "source": [
    "# Remove one of the rows with a duplicate user_id..\n",
    "# Hint: The dataframe.drop_duplicates() may not work in this case because the rows with duplicate user_id are not entirely identical. \n",
    "df2 = df2.drop_duplicates('user_id')\n",
    "\n",
    "# Check again if the row with a duplicate user_id is deleted or not\n",
    "df2[df2['user_id'] == 773192]\n"
   ]
  },
  {
   "cell_type": "markdown",
   "metadata": {},
   "source": [
    "### ToDo 1.4  \n",
    "Use **df2** in the cells below to answer the quiz questions related to **Quiz 4** in the classroom.\n",
    "\n",
    "**a.** What is the probability of an individual converting regardless of the page they receive?<br><br>\n",
    "\n"
   ]
  },
  {
   "cell_type": "code",
   "execution_count": 14,
   "metadata": {},
   "outputs": [
    {
     "data": {
      "text/plain": [
       "0.11959708724499628"
      ]
     },
     "execution_count": 14,
     "metadata": {},
     "output_type": "execute_result"
    }
   ],
   "source": [
    "df2['converted'].mean()"
   ]
  },
  {
   "cell_type": "markdown",
   "metadata": {},
   "source": [
    "**b.** Given that an individual was in the `control` group, what is the probability they converted?"
   ]
  },
  {
   "cell_type": "code",
   "execution_count": 15,
   "metadata": {},
   "outputs": [
    {
     "data": {
      "text/plain": [
       "0.1203863045004612"
      ]
     },
     "execution_count": 15,
     "metadata": {},
     "output_type": "execute_result"
    }
   ],
   "source": [
    "means_converted_control = df2.query('group == \"control\"')['converted'].mean()\n",
    "means_converted_control"
   ]
  },
  {
   "cell_type": "markdown",
   "metadata": {},
   "source": [
    "**c.** Given that an individual was in the `treatment` group, what is the probability they converted?"
   ]
  },
  {
   "cell_type": "code",
   "execution_count": 16,
   "metadata": {},
   "outputs": [
    {
     "data": {
      "text/plain": [
       "0.11880806551510564"
      ]
     },
     "execution_count": 16,
     "metadata": {},
     "output_type": "execute_result"
    }
   ],
   "source": [
    "means_converted_treatment = df2.query('group == \"treatment\"')['converted'].mean()\n",
    "means_converted_treatment"
   ]
  },
  {
   "cell_type": "code",
   "execution_count": 17,
   "metadata": {},
   "outputs": [
    {
     "data": {
      "text/plain": [
       "-0.0015782389853555567"
      ]
     },
     "execution_count": 17,
     "metadata": {},
     "output_type": "execute_result"
    }
   ],
   "source": [
    "# Calculate the actual difference (obs_diff) between the conversion rates for the two groups.\n",
    "obs_diff = means_converted_treatment - means_converted_control\n",
    "obs_diff"
   ]
  },
  {
   "cell_type": "markdown",
   "metadata": {},
   "source": [
    "**d.** What is the probability that an individual received the new page?"
   ]
  },
  {
   "cell_type": "code",
   "execution_count": 18,
   "metadata": {},
   "outputs": [
    {
     "data": {
      "text/plain": [
       "0.50006194422266881"
      ]
     },
     "execution_count": 18,
     "metadata": {},
     "output_type": "execute_result"
    }
   ],
   "source": [
    "(df2['landing_page'] == 'new_page').mean()"
   ]
  },
  {
   "cell_type": "markdown",
   "metadata": {},
   "source": [
    "**e.** Consider your results from parts (a) through (d) above, and explain below whether the new `treatment` group users lead to more conversions."
   ]
  },
  {
   "cell_type": "markdown",
   "metadata": {},
   "source": [
    ">**The users in the control group, that were exposed to the old website, have a slightly higher conversion rate than the users in the treatment group, that were exposed to the new website. Hence, the new treatment group doesn't lead to more conversions**\n"
   ]
  },
  {
   "cell_type": "markdown",
   "metadata": {},
   "source": [
    "<a id='ab_test'></a>\n",
    "## Part II - A/B Test\n",
    "\n",
    "Since a timestamp is associated with each event, you could run a hypothesis test continuously as long as you observe the events. \n",
    "\n",
    "However, then the hard questions would be: \n",
    "- Do you stop as soon as one page is considered significantly better than another or does it need to happen consistently for a certain amount of time?  \n",
    "- How long do you run to render a decision that neither page is better than another?  \n",
    "\n",
    "These questions are the difficult parts associated with A/B tests in general.  \n",
    "\n",
    "\n",
    "### ToDo 2.1\n",
    "For now, consider you need to make the decision just based on all the data provided.  \n",
    "\n",
    "> Recall that you just calculated that the \"converted\" probability (or rate) for the old page is *slightly* higher than that of the new page (ToDo 1.4.c). \n",
    "\n",
    "If you want to assume that the old page is better unless the new page proves to be definitely better at a Type I error rate of 5%, what should be your null and alternative hypotheses (**$H_0$** and **$H_1$**)?  \n",
    "\n",
    "You can state your hypothesis in terms of words or in terms of **$p_{old}$** and **$p_{new}$**, which are the \"converted\" probability (or rate) for the old and new pages respectively."
   ]
  },
  {
   "cell_type": "markdown",
   "metadata": {},
   "source": [
    ">**𝐻0 (Null hypothesis): Pnew - Pold <= 0 , H1 (Alternative Hypothesis): Pnew - Pold > 0 **"
   ]
  },
  {
   "cell_type": "markdown",
   "metadata": {},
   "source": [
    "### ToDo 2.2 - Null Hypothesis $H_0$ Testing\n",
    "Under the null hypothesis $H_0$, assume that $p_{new}$ and $p_{old}$ are equal. Furthermore, assume that $p_{new}$ and $p_{old}$ both are equal to the **converted** success rate in the `df2` data regardless of the page. So, our assumption is: <br><br>\n",
    "<center>\n",
    "$p_{new}$ = $p_{old}$ = $p_{population}$\n",
    "</center>\n",
    "\n",
    "In this section, you will: \n",
    "\n",
    "- Simulate (bootstrap) sample data set for both groups, and compute the  \"converted\" probability $p$ for those samples. \n",
    "\n",
    "\n",
    "- Use a sample size for each group equal to the ones in the `df2` data.\n",
    "\n",
    "\n",
    "- Compute the difference in the \"converted\" probability for the two samples above. \n",
    "\n",
    "\n",
    "- Perform the sampling distribution for the \"difference in the converted probability\" between the two simulated-samples over 10,000 iterations; and calculate an estimate. \n",
    "\n",
    "\n",
    "\n",
    "Use the cells below to provide the necessary parts of this simulation.  You can use **Quiz 5** in the classroom to make sure you are on the right track."
   ]
  },
  {
   "cell_type": "markdown",
   "metadata": {},
   "source": [
    "**a.** What is the **conversion rate** for $p_{new}$ under the null hypothesis? "
   ]
  },
  {
   "cell_type": "code",
   "execution_count": 19,
   "metadata": {},
   "outputs": [
    {
     "data": {
      "text/plain": [
       "0.11959708724499628"
      ]
     },
     "execution_count": 19,
     "metadata": {},
     "output_type": "execute_result"
    }
   ],
   "source": [
    "p_new = df2.converted.mean()\n",
    "p_new"
   ]
  },
  {
   "cell_type": "markdown",
   "metadata": {},
   "source": [
    "**b.** What is the **conversion rate** for $p_{old}$ under the null hypothesis? "
   ]
  },
  {
   "cell_type": "code",
   "execution_count": 20,
   "metadata": {},
   "outputs": [
    {
     "data": {
      "text/plain": [
       "0.11959708724499628"
      ]
     },
     "execution_count": 20,
     "metadata": {},
     "output_type": "execute_result"
    }
   ],
   "source": [
    "p_old = df2.converted.mean()\n",
    "p_old"
   ]
  },
  {
   "cell_type": "markdown",
   "metadata": {},
   "source": [
    "**c.** What is $n_{new}$, the number of individuals in the treatment group? <br><br>\n",
    "*Hint*: The treatment group users are shown the new page."
   ]
  },
  {
   "cell_type": "code",
   "execution_count": 21,
   "metadata": {},
   "outputs": [
    {
     "data": {
      "text/plain": [
       "145310"
      ]
     },
     "execution_count": 21,
     "metadata": {},
     "output_type": "execute_result"
    }
   ],
   "source": [
    "n_new = df2.query('landing_page == \"new_page\"').shape[0]\n",
    "n_new"
   ]
  },
  {
   "cell_type": "markdown",
   "metadata": {},
   "source": [
    "**d.** What is $n_{old}$, the number of individuals in the control group?"
   ]
  },
  {
   "cell_type": "code",
   "execution_count": 22,
   "metadata": {},
   "outputs": [
    {
     "data": {
      "text/plain": [
       "145274"
      ]
     },
     "execution_count": 22,
     "metadata": {},
     "output_type": "execute_result"
    }
   ],
   "source": [
    "n_old = df2.query('landing_page == \"old_page\"').shape[0]\n",
    "n_old"
   ]
  },
  {
   "cell_type": "markdown",
   "metadata": {},
   "source": [
    "**e. Simulate Sample for the `treatment` Group**<br> \n",
    "Simulate $n_{new}$ transactions with a conversion rate of $p_{new}$ under the null hypothesis.  <br><br>\n",
    "*Hint*: Use `numpy.random.choice()` method to randomly generate $n_{new}$ number of values. <br>\n",
    "Store these $n_{new}$ 1's and 0's in the `new_page_converted` numpy array.\n"
   ]
  },
  {
   "cell_type": "code",
   "execution_count": 23,
   "metadata": {},
   "outputs": [
    {
     "data": {
      "text/plain": [
       "array([1, 1, 0, ..., 0, 0, 0])"
      ]
     },
     "execution_count": 23,
     "metadata": {},
     "output_type": "execute_result"
    }
   ],
   "source": [
    "# Simulate a Sample for the treatment Group\n",
    "new_page_converted = np.random.binomial(1, p_new, n_new)\n",
    "new_page_converted"
   ]
  },
  {
   "cell_type": "markdown",
   "metadata": {},
   "source": [
    "**f. Simulate Sample for the `control` Group** <br>\n",
    "Simulate $n_{old}$ transactions with a conversion rate of $p_{old}$ under the null hypothesis. <br> Store these $n_{old}$ 1's and 0's in the `old_page_converted` numpy array."
   ]
  },
  {
   "cell_type": "code",
   "execution_count": 24,
   "metadata": {},
   "outputs": [
    {
     "data": {
      "text/plain": [
       "array([0, 0, 0, ..., 0, 0, 1])"
      ]
     },
     "execution_count": 24,
     "metadata": {},
     "output_type": "execute_result"
    }
   ],
   "source": [
    "# Simulate a Sample for the control Group\n",
    "old_page_converted = np.random.binomial(1, p_old, n_old)\n",
    "old_page_converted"
   ]
  },
  {
   "cell_type": "markdown",
   "metadata": {},
   "source": [
    "**g.** Find the difference in the \"converted\" probability $(p{'}_{new}$ - $p{'}_{old})$ for your simulated samples from the parts (e) and (f) above. "
   ]
  },
  {
   "cell_type": "code",
   "execution_count": 25,
   "metadata": {},
   "outputs": [
    {
     "data": {
      "text/plain": [
       "0.11933312223797789"
      ]
     },
     "execution_count": 25,
     "metadata": {},
     "output_type": "execute_result"
    }
   ],
   "source": [
    "old_page_converted_mean = old_page_converted.mean()\n",
    "old_page_converted_mean"
   ]
  },
  {
   "cell_type": "code",
   "execution_count": 26,
   "metadata": {},
   "outputs": [
    {
     "data": {
      "text/plain": [
       "0.11976464111210515"
      ]
     },
     "execution_count": 26,
     "metadata": {},
     "output_type": "execute_result"
    }
   ],
   "source": [
    "new_page_converted_mean = new_page_converted.mean()\n",
    "new_page_converted_mean"
   ]
  },
  {
   "cell_type": "code",
   "execution_count": 27,
   "metadata": {},
   "outputs": [
    {
     "data": {
      "text/plain": [
       "0.00043151887412726242"
      ]
     },
     "execution_count": 27,
     "metadata": {},
     "output_type": "execute_result"
    }
   ],
   "source": [
    "difference_converted_prob = new_page_converted_mean - old_page_converted_mean\n",
    "difference_converted_prob"
   ]
  },
  {
   "cell_type": "markdown",
   "metadata": {},
   "source": [
    "\n",
    "**h. Sampling distribution** <br>\n",
    "Re-create `new_page_converted` and `old_page_converted` and find the $(p{'}_{new}$ - $p{'}_{old})$ value 10,000 times using the same simulation process you used in parts (a) through (g) above. \n",
    "\n",
    "<br>\n",
    "Store all  $(p{'}_{new}$ - $p{'}_{old})$  values in a NumPy array called `p_diffs`."
   ]
  },
  {
   "cell_type": "code",
   "execution_count": 28,
   "metadata": {},
   "outputs": [
    {
     "data": {
      "text/plain": [
       "[-0.0016195743579890398,\n",
       " 0.0013745985368608382,\n",
       " -0.0012203731341027396,\n",
       " 0.00095450792831044962,\n",
       " 0.0016016412355181753,\n",
       " 0.00062445764021851202,\n",
       " 0.00048652924507647244,\n",
       " 0.00028665577362890771,\n",
       " -0.00089681074392862492,\n",
       " -0.00077280121528439105,\n",
       " 0.00067220587440609825,\n",
       " 0.00056238295564838003,\n",
       " -0.0011857558845939503,\n",
       " 0.0013331199129875265,\n",
       " -0.001695042654510967,\n",
       " -0.0008070518098341195,\n",
       " -0.0013096204566264563,\n",
       " 0.00034195264705774719,\n",
       " -0.00020159324426849423,\n",
       " -0.00071771239722767666,\n",
       " -0.00024985991151448006,\n",
       " 0.0015464824972134389,\n",
       " 0.00033493608385011531,\n",
       " 0.00066554402855420469,\n",
       " -4.340815743825166e-05,\n",
       " -0.0010480713576339756,\n",
       " 0.00096149038408004095,\n",
       " 0.00036962495897881198,\n",
       " -0.00012602603617622998,\n",
       " 0.0011817194587861596,\n",
       " 4.6408759300953228e-05,\n",
       " -0.00106899143899232,\n",
       " -0.0016746495330705463,\n",
       " 0.0026542590199017113,\n",
       " -0.00072471361208818752,\n",
       " 5.1518337749884013e-06,\n",
       " -0.0012272754373928996,\n",
       " -0.0028583667402977686,\n",
       " -0.0023629203897710532,\n",
       " 0.0002388563782842329,\n",
       " 0.00042444603364683031,\n",
       " -0.00067651004360259892,\n",
       " -0.0016332988120899422,\n",
       " 0.00053480955529768004,\n",
       " -0.001633297106718043,\n",
       " -0.0014267941914847398,\n",
       " -0.0019154831953330093,\n",
       " -0.0012689075447374493,\n",
       " 1.1675544502778856e-05,\n",
       " -0.001598966359688897,\n",
       " -0.0024934041733578882,\n",
       " -0.0010001696399751514,\n",
       " 0.00036281645114330519,\n",
       " -0.002080458030907853,\n",
       " 0.00052791577886703023,\n",
       " -3.6434228528170465e-05,\n",
       " -7.1088996218826583e-05,\n",
       " 0.00096136248118733336,\n",
       " -0.00019477450420156417,\n",
       " -0.0010898791182844952,\n",
       " 0.00029385992774584591,\n",
       " -0.00013277315062325268,\n",
       " 0.00079616424189325741,\n",
       " -0.00011210887505030964,\n",
       " 0.0024616135777777159,\n",
       " -9.0074901610975866e-06,\n",
       " -0.00060772917351110955,\n",
       " -0.0015782099940332278,\n",
       " 0.00048671513061386562,\n",
       " -0.0014061435588870186,\n",
       " -0.0022874111643234607,\n",
       " 0.00065870823476824047,\n",
       " 0.00029409526906840067,\n",
       " 8.7575300116063404e-05,\n",
       " 0.001491388563040999,\n",
       " 0.0013537620187257376,\n",
       " 0.0019589954752002037,\n",
       " -0.0012683328344062494,\n",
       " -0.00031856745061416281,\n",
       " 0.00027314108027201578,\n",
       " -0.001275095297200407,\n",
       " -0.0011238295673793447,\n",
       " 0.0011883591348033212,\n",
       " -0.00031166173658019047,\n",
       " -0.00053206475922039365,\n",
       " -0.0025969506603137071,\n",
       " -0.0010206531461264129,\n",
       " 0.00217949229329506,\n",
       " -0.0012684249244889895,\n",
       " 0.00082391159017804194,\n",
       " 7.3375047254325976e-05,\n",
       " -0.00020169045046695977,\n",
       " -0.00078674054624502943,\n",
       " -0.0010417164787245581,\n",
       " 0.00069995663343469516,\n",
       " -0.00022235813678368743,\n",
       " -0.00020156936906186307,\n",
       " -0.00070421816833361739,\n",
       " -0.0013714359246673885,\n",
       " 0.0010163728521365434,\n",
       " -0.00024970642804324206,\n",
       " 0.0011748461468183424,\n",
       " 0.0018219828647698805,\n",
       " -0.0023422527034543117,\n",
       " 0.00074806299572181822,\n",
       " -0.0010138599866380132,\n",
       " -0.0012408464080225778,\n",
       " 0.0005278373317594981,\n",
       " -0.0014130219869705474,\n",
       " -0.0017090740755543454,\n",
       " -0.0012133224634570394,\n",
       " 0.0007132990842294018,\n",
       " 0.00097540583983404816,\n",
       " -0.00072485856869991538,\n",
       " -0.00064229867260662266,\n",
       " -2.2576755418862726e-05,\n",
       " 0.0018424595494335172,\n",
       " 0.00041110187748022442,\n",
       " 0.00023212120144053272,\n",
       " -0.00030511073990195647,\n",
       " -0.0003323652357068857,\n",
       " -0.00028393826350205098,\n",
       " -0.0013992770684067984,\n",
       " 0.0013332341729049985,\n",
       " 0.00061739332659760393,\n",
       " 0.0018425584610038681,\n",
       " 0.0014090452491793692,\n",
       " -0.0016265534030148188,\n",
       " 0.00087886738922636487,\n",
       " -0.0018602954657059301,\n",
       " 0.00010794454634983908,\n",
       " -0.00058020181820177263,\n",
       " -0.0019499299076515403,\n",
       " 0.00047297021205013057,\n",
       " -0.00058016600539181895,\n",
       " -0.0020188779041894894,\n",
       " 0.0022689817786289285,\n",
       " 0.0014019502388642052,\n",
       " 0.0016979852737289552,\n",
       " 0.0013744194728110559,\n",
       " -0.0020462023202424129,\n",
       " 0.0014706970015176263,\n",
       " 0.0012576550272094117,\n",
       " -0.00048397033453656535,\n",
       " 0.0020834023554977543,\n",
       " -0.00053189422203012149,\n",
       " -0.00075202609053780234,\n",
       " 0.00083752860584908329,\n",
       " -0.0010278675324747605,\n",
       " -8.4641207757571446e-05,\n",
       " 5.3058667549510385e-05,\n",
       " -7.7624644549925681e-05,\n",
       " 0.0031364618312040848,\n",
       " 0.00047962182567060085,\n",
       " 0.0023105303227502344,\n",
       " -0.0030716832794823179,\n",
       " -0.000222247287610014,\n",
       " 0.00096842850018015458,\n",
       " -0.0014478728724300061,\n",
       " -0.00057344447152332667,\n",
       " 0.0015604695785873535,\n",
       " 0.00034200551358673503,\n",
       " -1.5798944277584104e-05,\n",
       " -0.00038750862566450106,\n",
       " -1.5906382707445155e-05,\n",
       " -0.00087617716504995169,\n",
       " -0.00023603995658703913,\n",
       " -0.0011790889226263451,\n",
       " 0.00036964201269784613,\n",
       " 0.00087889638054870767,\n",
       " -0.0012822704599949886,\n",
       " -0.00072483810423708273,\n",
       " -0.00048404366552838585,\n",
       " 0.00047945810996795346,\n",
       " 0.0010921702854356785,\n",
       " 0.0014982789287278503,\n",
       " -0.0021014378002827683,\n",
       " -6.4109951193033754e-05,\n",
       " -0.00025004238630806086,\n",
       " 0.0015808985128377279,\n",
       " 0.00049361743390402557,\n",
       " 0.00011502420831788207,\n",
       " -0.00023639808468657597,\n",
       " -0.001509439356173134,\n",
       " 0.0013193255386386021,\n",
       " 0.0018765072047268461,\n",
       " -0.00062122851852086658,\n",
       " 0.0017252295373024751,\n",
       " -0.0010274701808214437,\n",
       " -0.0010069355135131075,\n",
       " 5.3005801020536425e-05,\n",
       " -4.3449086363916978e-05,\n",
       " -0.0013922093440420918,\n",
       " 0.0015603672562732041,\n",
       " -0.0017432308746494346,\n",
       " 0.00081022977037469024,\n",
       " 0.00040390966096660874,\n",
       " -0.0010209737560440968,\n",
       " -0.0013441865449781709,\n",
       " 4.6743296422541158e-06,\n",
       " -0.0014128974948216522,\n",
       " 0.00059652099565254968,\n",
       " 0.00099588934598529577,\n",
       " -0.00015364889231210543,\n",
       " 0.00058977388120551311,\n",
       " -0.00097215454830165693,\n",
       " 0.001725389842261324,\n",
       " 0.0016978334956296304,\n",
       " -0.001268566470356905,\n",
       " -0.00017413921995097781,\n",
       " 0.00023209221011817605,\n",
       " -0.00044940083544103837,\n",
       " -0.0010001901044379841,\n",
       " 0.0019320496517096775,\n",
       " 0.00012902322729511917,\n",
       " -0.0013787577494455971,\n",
       " 0.00010138161206829643,\n",
       " -0.001530180373481696,\n",
       " 0.00086488201322434954,\n",
       " -0.0016813403702447827,\n",
       " 2.570014405854637e-05,\n",
       " -0.00024305140367895939,\n",
       " -9.1534984188221258e-05,\n",
       " 0.0014845902874369016,\n",
       " -0.0016333192765527749,\n",
       " 0.00060368251547190943,\n",
       " -0.00091762509222899358,\n",
       " -0.00043565762224920257,\n",
       " 0.00011493552897894055,\n",
       " 0.00015606455161219779,\n",
       " 0.00069309184832637427,\n",
       " 0.0027580630180148308,\n",
       " -0.00052511982163265525,\n",
       " 0.00094100346718498096,\n",
       " -0.0022940082060430578,\n",
       " -0.00037363409883615917,\n",
       " -0.0014681790199033845,\n",
       " -0.00099305245982525547,\n",
       " -0.00043553142472840811,\n",
       " 0.0009134965763384767,\n",
       " -0.00069024472993492458,\n",
       " 0.00035593290694406476,\n",
       " 0.0012159205975507265,\n",
       " -0.0010204348585228645,\n",
       " 0.0019322321265032583,\n",
       " 0.00054145264205865407,\n",
       " 0.0002937831860102269,\n",
       " -0.00033237205719448271,\n",
       " -0.00015351416793180084,\n",
       " -0.00050433275928273014,\n",
       " -0.00044959695320985482,\n",
       " -0.00090360390341702457,\n",
       " 0.0013951093289625155,\n",
       " 0.00011484684963999903,\n",
       " -0.0015644701915851905,\n",
       " 0.0014433538263737833,\n",
       " 0.00026622172326282167,\n",
       " -0.00070414142659799839,\n",
       " -0.00079365649251042503,\n",
       " 0.00084450424013106373,\n",
       " 0.00058985914980065612,\n",
       " 0.00099581601499348915,\n",
       " 0.00027326898316472337,\n",
       " -0.0002841036845766115,\n",
       " -0.00099320423792459422,\n",
       " 0.00022503642335677809,\n",
       " 0.0025100610144453833,\n",
       " -0.00046315257549239819,\n",
       " 0.00061048761256361772,\n",
       " 0.00015618733838917986,\n",
       " 0.0012986732006689955,\n",
       " 0.0006861298570196156,\n",
       " 0.0017806815995744518,\n",
       " -0.0008074099379336841,\n",
       " -0.0011721661548733525,\n",
       " 4.7527767497723694e-06,\n",
       " -0.00048390553040426887,\n",
       " 0.0010160931711445248,\n",
       " 0.00069324874254142466,\n",
       " -9.1565680882477185e-05,\n",
       " -0.0024319877623421859,\n",
       " -0.00056663255294400749,\n",
       " -0.0024867031039522286,\n",
       " 0.001291758959775513,\n",
       " 0.0013058517742073894,\n",
       " -0.00038065407278760344,\n",
       " 1.8681875479001353e-05,\n",
       " 0.000245622251822189,\n",
       " -0.0020739257933205524,\n",
       " 0.00078926534934689596,\n",
       " 0.00056213738209441588,\n",
       " -0.0021633658228692731,\n",
       " 0.00053482660901670032,\n",
       " -0.0015642826006758842,\n",
       " -0.00055962792733968425,\n",
       " -1.5730729401475241e-05,\n",
       " -0.00086913331589186238,\n",
       " -0.00062849577139820201,\n",
       " -8.7977294170593634e-06,\n",
       " 0.0012369361797355954,\n",
       " -0.0028792510088461454,\n",
       " -0.00015375121462626873,\n",
       " 0.0017255041021787959,\n",
       " 0.00067230990209216079,\n",
       " 0.00025248874230239526,\n",
       " 0.00090640327139521193,\n",
       " 0.00065175477032100582,\n",
       " -0.0021838152215824663,\n",
       " 0.0013262039667221448,\n",
       " -0.0013719287771472438,\n",
       " -0.0020806405057014338,\n",
       " 0.0013950752215244749,\n",
       " -0.0016810095280956755,\n",
       " 0.00032139410454279371,\n",
       " -0.00066978680436220739,\n",
       " -0.0013717053734279977,\n",
       " 0.0020971012290201263,\n",
       " 0.00087922381195401633,\n",
       " 0.0005485442416300057,\n",
       " 0.00069323509956620288,\n",
       " 0.0008720912834569855,\n",
       " -0.00078690085120389219,\n",
       " -0.0019634292526612973,\n",
       " -0.00044953044370563133,\n",
       " -0.0025832415545599119,\n",
       " -0.00030505446262918401,\n",
       " -0.0017778600617615464,\n",
       " -0.0006766072498010367,\n",
       " 0.0018562641560138649,\n",
       " -0.00069717431917552808,\n",
       " -0.0014750045814579393,\n",
       " 0.0011542364431462865,\n",
       " 0.0013673790343967651,\n",
       " -0.0012065361254562645,\n",
       " 0.0017806474921364113,\n",
       " -0.0011377194425548215,\n",
       " 0.0010303872194609015,\n",
       " -0.0001672966046774027,\n",
       " 0.0013468852960141081,\n",
       " 0.00039027559157653324,\n",
       " -0.001075786303852605,\n",
       " 0.0002592750803031979,\n",
       " 0.00052797376151171582,\n",
       " 0.00025938934022066984,\n",
       " 0.0022074067680262904,\n",
       " 0.00091361595237166027,\n",
       " 0.0028954678639827591,\n",
       " 0.00074129200606816437,\n",
       " 0.0010990725887258523,\n",
       " -0.00075918249424145046,\n",
       " 0.0014089940880222807,\n",
       " -0.0013716183994609693,\n",
       " -0.00096546882724313221,\n",
       " 0.00086504402355509769,\n",
       " -0.00093146551161928104,\n",
       " -0.001144587638406927,\n",
       " -0.0014953448363693583,\n",
       " -0.0013856890440581138,\n",
       " 0.00089986932843601208,\n",
       " -0.0010070719432653114,\n",
       " 0.0016635607312451561,\n",
       " 0.002399869735356705,\n",
       " -0.0018121652282121481,\n",
       " 0.00021128979942114379,\n",
       " -0.00094508934877794715,\n",
       " 0.0018974289914570619,\n",
       " 4.7186693117179379e-06,\n",
       " -0.00029804301553724988,\n",
       " -0.0021977511417993201,\n",
       " 0.0010165024604011502,\n",
       " -0.00097262693631869346,\n",
       " -0.00052501920469039121,\n",
       " 0.0014155484954442993,\n",
       " -0.00075206701946345378,\n",
       " 0.00096804479150207345,\n",
       " -0.00032536913696207259,\n",
       " -0.0017572077237919259,\n",
       " -9.8338375908030295e-05,\n",
       " -0.0020533280272518328,\n",
       " -0.00045632189782213173,\n",
       " 0.00010131339719220145,\n",
       " 0.0024618045794308069,\n",
       " -0.00051819023239203788,\n",
       " 0.00020438749613096996,\n",
       " -0.0015714100130572034,\n",
       " -0.0005528160087603512,\n",
       " 2.5543249843509863e-05,\n",
       " 0.00010805027940780088,\n",
       " -0.0011993763110087902,\n",
       " -0.00055980869676135192,\n",
       " 0.0008788537462511431,\n",
       " -0.0012753408707543851,\n",
       " -0.00092452910089106666,\n",
       " 4.8448668325123956e-06,\n",
       " 0.0025928102068198539,\n",
       " -0.0025417816897775475,\n",
       " -0.0010963823645494392,\n",
       " 0.00087185423676251761,\n",
       " -0.00029793216636356257,\n",
       " -0.00038778489591272114,\n",
       " 0.00093362536513398597,\n",
       " 0.00077577964731236071,\n",
       " 0.0018423947453012207,\n",
       " 0.00050704003717816359,\n",
       " -0.002108193441589315,\n",
       " 0.0011058538106109295,\n",
       " 0.00043160243735049231,\n",
       " 0.00089254409291399106,\n",
       " -0.0010553130299327668,\n",
       " 0.0013605978125117019,\n",
       " -0.00079322332804715456,\n",
       " 0.00067932646529980656,\n",
       " -0.00060773770037061969,\n",
       " 0.00041086824152954116,\n",
       " 0.00094070161635821659,\n",
       " 0.0011541511745511712,\n",
       " 0.00094760050890457803,\n",
       " -0.0024044399425700164,\n",
       " 0.00067274818267114289,\n",
       " 0.0019182518666169407,\n",
       " -0.00091053690340144045,\n",
       " -0.0011030936661865082,\n",
       " -0.00047700493248599429,\n",
       " -0.00069734997248151187,\n",
       " 0.00081017178773000464,\n",
       " -0.00031176235352245452,\n",
       " -0.00043563374704257141,\n",
       " 0.0017390904211555813,\n",
       " 0.00067924290207657667,\n",
       " 0.00040394888452036093,\n",
       " 0.0010368853496101477,\n",
       " 0.00012867874217077635,\n",
       " 0.00087198896114283608,\n",
       " 0.00046589737156969846,\n",
       " 0.0016084650917008309,\n",
       " -0.0010412850196331869,\n",
       " -0.00064895881308661696,\n",
       " 0.0011886746286053212,\n",
       " 0.00067934181364694146,\n",
       " 0.00061730294188676316,\n",
       " -0.00084183618578938246,\n",
       " 0.0008720298900685014,\n",
       " -0.00029139992877627585,\n",
       " -0.0011515632726889075,\n",
       " -0.00086208776136187382,\n",
       " -0.00091085580794723897,\n",
       " 0.00023878475266432553,\n",
       " -8.4784458997386181e-05,\n",
       " -0.00089681756541624968,\n",
       " 0.0003488140214222557,\n",
       " 0.00047292757775255212,\n",
       " -0.0009037625030039742,\n",
       " 0.00027306945465210841,\n",
       " 0.00069306115163213222,\n",
       " 0.0014981356774880356,\n",
       " 0.00095469892996355443,\n",
       " -0.0014888671706829587,\n",
       " 0.00025957693112996227,\n",
       " -0.00064231402095375756,\n",
       " 0.00021822450477745892,\n",
       " -0.0011172086504531165,\n",
       " 0.00018371810444232917,\n",
       " 0.0012370419127935572,\n",
       " -9.8785183346522532e-05,\n",
       " 0.00092697886762921344,\n",
       " 0.00095472451054208485,\n",
       " 0.00042464385678754601,\n",
       " 0.0021042201145419215,\n",
       " -0.0011238500318421912,\n",
       " 0.0014224354503873521,\n",
       " 0.00041779953614205778,\n",
       " -0.00095171026570417538,\n",
       " -0.00037362216123283665,\n",
       " -0.00087618569190946183,\n",
       " 3.2290364290532558e-05,\n",
       " 0.0014156252371799183,\n",
       " -2.0813116642787177e-06,\n",
       " -0.00071760325342590248,\n",
       " -0.0016471903926373044,\n",
       " 0.0013333330844753633,\n",
       " 0.0013054595386697843,\n",
       " 0.003040225231423152,\n",
       " 0.0016773056498089051,\n",
       " 0.001904655315408732,\n",
       " 0.0014983505543477577,\n",
       " 0.00084463214302375744,\n",
       " -0.0015367347809037285,\n",
       " 0.00038999079446878915,\n",
       " -0.00045614112840045018,\n",
       " 0.0012024690029542318,\n",
       " -0.00024284505367874742,\n",
       " 0.00041775349110069471,\n",
       " -0.0010897222240694449,\n",
       " 0.00041066189152934307,\n",
       " -0.0012960085570711266,\n",
       " 0.0012438606528604873,\n",
       " -0.00050456980597718415,\n",
       " 0.00099607693689458821,\n",
       " -0.00027047473130223376,\n",
       " -0.00058731899835166856,\n",
       " -0.00065595491183143007,\n",
       " -0.0018191732645602837,\n",
       " -0.0020325597239928272,\n",
       " -0.0014199856836492053,\n",
       " 0.0011335909266642907,\n",
       " -0.0015165548309511445,\n",
       " -0.0010689948497361046,\n",
       " -0.0006284923606544035,\n",
       " -0.00062862367429089572,\n",
       " -0.0010138361114313821,\n",
       " -0.00056646201575373534,\n",
       " -0.0021494486617433667,\n",
       " 8.0400137321468002e-05,\n",
       " -0.00045606609203674431,\n",
       " 0.00070685040986534498,\n",
       " 0.0012091632508722666,\n",
       " -0.0035535450164041471,\n",
       " 0.00029398612526662649,\n",
       " -0.001867167072301848,\n",
       " -0.00027761237591496235,\n",
       " 0.00091340107551193817,\n",
       " 0.00010117696743998372,\n",
       " 0.0024480784199580052,\n",
       " 0.0023243417508181929,\n",
       " 0.0011129982767112689,\n",
       " -0.001047998026642169,\n",
       " 0.00076207736304617635,\n",
       " 0.0008650661933898296,\n",
       " 0.00072041455900739848,\n",
       " -0.00056626248724112038,\n",
       " -0.00058034506944158737,\n",
       " -0.00027046108832702587,\n",
       " -0.0006696111510562236,\n",
       " 0.00075483228000358671,\n",
       " 0.0022006119031659777,\n",
       " -0.0021425821712631604,\n",
       " 0.00049329170787061616,\n",
       " -0.0010965102674421329,\n",
       " -0.0014747828831105925,\n",
       " 0.001195559878176447,\n",
       " -0.00011207135686845671,\n",
       " -0.00062850941437342378,\n",
       " 0.00025244610800484457,\n",
       " 0.00084440532856071282,\n",
       " -0.00020156084220235293,\n",
       " 0.0013264086113504575,\n",
       " -0.00060775304871774072,\n",
       " 0.001009666666615186,\n",
       " 0.001250462810695796,\n",
       " -0.0001261283584903794,\n",
       " 0.0015190694018215878,\n",
       " 0.00088592488135967595,\n",
       " 0.0026684200492096966,\n",
       " 0.00066542124177720874,\n",
       " 0.0006171767443659687,\n",
       " -0.00093827401945481559,\n",
       " -0.0014541970546451816,\n",
       " 8.7413289785315262e-05,\n",
       " 0.0025855924097277078,\n",
       " -0.00036701659265372943,\n",
       " -0.0015230717201913102,\n",
       " 0.00067945777893629877,\n",
       " 0.00025947631418769823,\n",
       " 0.0009406913841268072,\n",
       " 0.00086513270289403921,\n",
       " -0.0017505015382705547,\n",
       " 0.0015532142633133544,\n",
       " 0.00023880521712715819,\n",
       " -0.0013303546524473936,\n",
       " -0.00018794212115941233,\n",
       " 0.00070699025036136121,\n",
       " -0.001826032933552893,\n",
       " -1.563522857493671e-05,\n",
       " 0.0012296058280978628,\n",
       " 0.0011129113027442405,\n",
       " -0.0011791008602296676,\n",
       " -0.0018948120982724692,\n",
       " -0.00089003463815927331,\n",
       " -0.00036702511951323957,\n",
       " -0.00061487705035524753,\n",
       " -0.00089662826913504412,\n",
       " 0.0026064869105074939,\n",
       " -0.0010483766192045524,\n",
       " -0.00027745718707183897,\n",
       " 0.001181531867876881,\n",
       " 0.00014896101443752363,\n",
       " 0.0014776521713367741,\n",
       " -0.00029098722877585192,\n",
       " 0.00044482380674011612,\n",
       " 0.00012180201945914682,\n",
       " -0.00057353315086226819,\n",
       " -0.0015369121395815977,\n",
       " -0.00097281623259988514,\n",
       " 0.00068622706321806726,\n",
       " 0.0027166338499266945,\n",
       " 0.00082365066827692901,\n",
       " -0.0023422151852724588,\n",
       " 0.0028265556802547637,\n",
       " -0.00047688385108091147,\n",
       " 0.00021124716512357922,\n",
       " -0.00014663915059207056,\n",
       " -0.00075244731739775028,\n",
       " -6.3733064002563511e-05,\n",
       " 0.0018769386638182034,\n",
       " -0.00013301701880533146,\n",
       " 0.00068600024875502263,\n",
       " -0.00038747110748263425,\n",
       " -0.00011205259777753718,\n",
       " 0.00018370616683902052,\n",
       " -0.00051837611792943106,\n",
       " -0.0014473663769749151,\n",
       " -0.00021547118184063463,\n",
       " 0.0011681706579912271,\n",
       " 0.00054859540278709429,\n",
       " 0.00014250040247013041,\n",
       " -0.0010896301339867048,\n",
       " -0.0012550483662562284,\n",
       " 0.0019732912288884935,\n",
       " -0.00044944858585431458,\n",
       " -0.00088327558610891421,\n",
       " -0.00059393309379029979,\n",
       " -9.1434367245971093e-05,\n",
       " 0.00095447382087239518,\n",
       " 0.0010783537412520222,\n",
       " 4.6623920389315954e-06,\n",
       " -0.0014957131967003323,\n",
       " -0.0010484891737501251,\n",
       " -0.0011102500698901702,\n",
       " 0.00087884692476353221,\n",
       " 0.00076172435106233727,\n",
       " 0.00017670495197849578,\n",
       " 0.0014432327449686866,\n",
       " -0.00074519370749563663,\n",
       " -0.00089689942326758032,\n",
       " -3.6485389685259051e-05,\n",
       " 0.00053496303876891804,\n",
       " 0.0006036637563809899,\n",
       " -0.00099286657428787617,\n",
       " -0.00053195049930290783,\n",
       " -9.1098124752470033e-06,\n",
       " 0.00075535071306198631,\n",
       " -0.00010563632547960777,\n",
       " 0.00028685018602581103,\n",
       " -0.00063512180444014188,\n",
       " 0.0019248796050307937,\n",
       " -0.0014267976022285384,\n",
       " 0.00044519728318680174,\n",
       " 0.00052099301111402374,\n",
       " 0.00080307336667102824,\n",
       " -7.0850244152459441e-05,\n",
       " -0.0027139845546759606,\n",
       " 0.0012848396027663189,\n",
       " -0.0010895158740692329,\n",
       " -0.0026654927783388155,\n",
       " -0.0012066810820679924,\n",
       " 0.00034910734538950994,\n",
       " 0.00053476009951250458,\n",
       " -0.00066262698991474689,\n",
       " 6.6667156361055468e-05,\n",
       " 0.00070669351565029459,\n",
       " 0.00063807636126145262,\n",
       " 0.00052782198341237707,\n",
       " 0.0024686898290019466,\n",
       " -0.00099300812015579165,\n",
       " -0.0017847572489360086,\n",
       " -0.00024984285779545978,\n",
       " -0.00028426910565115815,\n",
       " 0.002461652801331482,\n",
       " -0.00049755494814145151,\n",
       " -0.00015342889933665782,\n",
       " 0.00051409582393956155,\n",
       " 0.0001081099674243996,\n",
       " 0.0019184241091791121,\n",
       " -0.00039453201035975771,\n",
       " 0.00077593142541169946,\n",
       " -5.7079745010180094e-05,\n",
       " 0.0017116193431190307,\n",
       " 0.00012865827770795757,\n",
       " 0.00045210811333647183,\n",
       " 0.0015396432926836762,\n",
       " -0.0011168948620230296,\n",
       " -0.00016053584725515824,\n",
       " 0.00088575093342560529,\n",
       " 0.0015810247103585223,\n",
       " 0.0020145873779682105,\n",
       " -0.0004356883189434585,\n",
       " -0.00065590545604625461,\n",
       " 0.002193404338305241,\n",
       " 0.0012917572544036138,\n",
       " 0.00040390795559469561,\n",
       " -0.00042887469499222619,\n",
       " -0.001027732808094442,\n",
       " -0.0016542188934482727,\n",
       " -0.0012752982364568205,\n",
       " -0.0014474874583799979,\n",
       " -0.0030302319415594636,\n",
       " 0.00089254068217019256,\n",
       " 0.0006998594272362435,\n",
       " -0.00088310504891865593,\n",
       " -0.0014339727650231338,\n",
       " -0.0010483749138326531,\n",
       " 0.00036942543046619702,\n",
       " 0.0025513452259217778,\n",
       " -0.00037364433106758244,\n",
       " 0.00069965478260791691,\n",
       " 0.0001906681581457792,\n",
       " 0.00025937910798924657,\n",
       " 0.00075509320190468576,\n",
       " 0.0003969561965193602,\n",
       " -0.001474979000879395,\n",
       " -0.00057339331036625196,\n",
       " -0.00013279361508608534,\n",
       " -0.00091053178728574269,\n",
       " -0.0016194106422863924,\n",
       " -0.00088990844063846497,\n",
       " -0.0011375642537116704,\n",
       " 0.00080304096460488694,\n",
       " 4.7715358406918984e-06,\n",
       " -0.0007522290297942158,\n",
       " 0.0013743393203316245,\n",
       " -0.0013580030891618272,\n",
       " 5.9725629517129453e-05,\n",
       " 0.00071375612389931731,\n",
       " 0.00069981849831057819,\n",
       " -0.00049750378698437681,\n",
       " -0.0012271782311944479,\n",
       " 0.00043164336627615763,\n",
       " 5.3084248128054679e-05,\n",
       " 0.00061057629190257312,\n",
       " -2.2701247567757932e-05,\n",
       " 0.00025218006998803388,\n",
       " -0.0013236501722979493,\n",
       " 0.00030054564880437062,\n",
       " -0.0019980311538229795,\n",
       " 0.00034904424662912659,\n",
       " 0.00045885181703969602,\n",
       " -0.00079342456193166877,\n",
       " -0.0013375127615229687,\n",
       " 0.00039025683248559984,\n",
       " 0.0014847659407428715,\n",
       " 0.0014155177987500572,\n",
       " 0.00051415039584044864,\n",
       " 0.0023518196503423544,\n",
       " 0.00094802003039262672,\n",
       " 0.00030769523102040786,\n",
       " -0.0015919770824316948,\n",
       " -0.00043577188216668838,\n",
       " 0.00045224454308868955,\n",
       " -0.0010206957804239775,\n",
       " 0.0014914942960989747,\n",
       " 0.00091988897342974718,\n",
       " -0.00090386653069005063,\n",
       " -0.00046300932425256958,\n",
       " 0.00074136704243188412,\n",
       " 4.6089854755154702e-05,\n",
       " -0.00027738215070811922,\n",
       " -0.0012752607182749537,\n",
       " -0.0014267703162780948,\n",
       " -0.0018536404413416474,\n",
       " 0.00090649706684985121,\n",
       " -0.00044953555982135684,\n",
       " -0.0013580252589965591,\n",
       " 0.00023873870762294858,\n",
       " 0.00074826934572204407,\n",
       " -0.0004424098528119369,\n",
       " -0.0014197094134009713,\n",
       " 0.00077576429896523968,\n",
       " -0.0027346675893398231,\n",
       " -0.0017433911796082696,\n",
       " -9.8454341197415363e-05,\n",
       " -0.00049071574361168879,\n",
       " -0.00065613568125312549,\n",
       " 0.0013331216183594258,\n",
       " 0.00037689221185614741,\n",
       " -0.0016884404966756583,\n",
       " -0.00016709196004908999,\n",
       " 0.00028695591908377283,\n",
       " -0.0013718059903702617,\n",
       " 0.0018494897556163986,\n",
       " 0.00054837711518354593,\n",
       " 0.00074821818456496936,\n",
       " 0.0013260777692013365,\n",
       " -0.0019362463824763032,\n",
       " 0.0012162258591212893,\n",
       " 0.00085847085704214565,\n",
       " -0.0017914583183416544,\n",
       " -0.0017160019594230497,\n",
       " -0.00212184627007031,\n",
       " -0.0014749636525322601,\n",
       " -0.00053912907284130174,\n",
       " -0.00016012314725470655,\n",
       " 0.000789289224553541,\n",
       " 0.00061719891420070061,\n",
       " 0.000424712071663641,\n",
       " -0.0014546455674555731,\n",
       " -0.0023559157641667161,\n",
       " -0.0024042011905036353,\n",
       " 0.00019766937300629006,\n",
       " 0.0017599286446625811,\n",
       " 0.0010027780063002478,\n",
       " 0.0012642998193422711,\n",
       " -0.002638129138732126,\n",
       " 0.00013521780124568783,\n",
       " 0.00012856789299711679,\n",
       " -0.0011099260492286739,\n",
       " -0.0015370519800776139,\n",
       " 0.00070671739085693963,\n",
       " -6.4051968548348159e-05,\n",
       " -4.3191575206616428e-05,\n",
       " -0.00042888322185173633,\n",
       " -0.001660802292192648,\n",
       " 0.0010509287082568486,\n",
       " -0.00037374153726602022,\n",
       " 0.00083082242032771203,\n",
       " 0.00029409015295268903,\n",
       " 0.00043857807163247275,\n",
       " -0.0012063945795883352,\n",
       " 0.0025721817440568923,\n",
       " -0.001543955988739687,\n",
       " -0.00034604876088213665,\n",
       " -3.6282450428845592e-05,\n",
       " 7.355922741979215e-05,\n",
       " 0.00070649569250959277,\n",
       " -2.0301505072040094e-06,\n",
       " -0.0015713656733877396,\n",
       " -0.00038067965336614773,\n",
       " -0.001392531659331675,\n",
       " -0.00039439728597945312,\n",
       " 0.00023216554110999654,\n",
       " 0.0002111039138837506,\n",
       " -2.9615488461226525e-05,\n",
       " -0.0015299791395971818,\n",
       " -0.0014334952608903717,\n",
       " 0.00063806271828624472,\n",
       " 3.2283542802907794e-05,\n",
       " -0.00081451859122406989,\n",
       " -0.00027083285940179835,\n",
       " -0.001371869089130659,\n",
       " -0.00069732439190296758,\n",
       " 0.0006516848500729977,\n",
       " 0.00063803031622008954,\n",
       " 0.0029024554358680621,\n",
       " 0.001284870299460561,\n",
       " 0.00037660912012031644,\n",
       " 0.0012091530186408711,\n",
       " 0.00044542750839365874,\n",
       " -0.0010894442484493116,\n",
       " 0.00039037109240308565,\n",
       " 0.00061049955016695412,\n",
       " 1.1525471775339358e-05,\n",
       " 0.00089300283795580582,\n",
       " 0.00035589879950601033,\n",
       " -1.9005422426110474e-06,\n",
       " -2.2759230212443526e-05,\n",
       " 0.00075498746884672396,\n",
       " -0.0016951057532713504,\n",
       " -0.00064913105564878837,\n",
       " 0.0015670939062573941,\n",
       " -0.00080720358793345826,\n",
       " 0.00078963029893405756,\n",
       " -0.0020463285177632073,\n",
       " -0.0011860082796355392,\n",
       " -0.0013717326593784412,\n",
       " 0.0017600463153238655,\n",
       " -0.0022940747155472535,\n",
       " 0.0004247086609198425,\n",
       " -0.00017402325466159274,\n",
       " -0.0011377706037118962,\n",
       " -0.00081419115981876122,\n",
       " 0.0013123260291500044,\n",
       " 0.0014020406235750321,\n",
       " 0.00080998249144881296,\n",
       " 0.0015324766567486048,\n",
       " 0.0015808354140773306,\n",
       " -0.0012132627754404546,\n",
       " -0.0027002464575998364,\n",
       " 0.0012642418366975855,\n",
       " -0.00095863473882906725,\n",
       " -0.0020118579302380452,\n",
       " -0.00066987377832924966,\n",
       " 0.0004521950873035141,\n",
       " 0.0028338843265205971,\n",
       " -0.001722708144944407,\n",
       " -8.4898718914858118e-05,\n",
       " 0.00025953600220428308,\n",
       " -0.0021423979910976665,\n",
       " 0.00035567539578676421,\n",
       " 0.0012644498920697106,\n",
       " 0.00050722592271555678,\n",
       " -0.00029113048001566666,\n",
       " 0.0016705193118081163,\n",
       " 0.0013605347137512908,\n",
       " 0.00025947631418769823,\n",
       " 0.0012091240273185144,\n",
       " -0.00064877292754923765,\n",
       " 0.00087900040823475634,\n",
       " -0.0023076797936149723,\n",
       " 0.00032837826568427042,\n",
       " 0.00082382632158289892,\n",
       " 0.0011749774604548485,\n",
       " 0.00010827368312704699,\n",
       " -0.00020178424592158517,\n",
       " 0.00021801133328962219,\n",
       " -0.0011723401028074232,\n",
       " -0.0020324676339100872,\n",
       " 0.001147161897293969,\n",
       " 0.00035583740611751236,\n",
       " -0.00095208203677894787,\n",
       " 0.00096847454522153154,\n",
       " -0.0016678035070531727,\n",
       " -0.0017022621569750124,\n",
       " -0.0024524712684934336,\n",
       " -0.002370167178185556,\n",
       " -0.00010552547630594822,\n",
       " 0.0007345602399682627,\n",
       " 0.0001835884961777362,\n",
       " 0.00066553550169469455,\n",
       " -0.0014957609471136085,\n",
       " -0.0026039058301328549,\n",
       " 4.7408391464498489e-06,\n",
       " 0.00056233691060701696,\n",
       " 2.5365891165626819e-05,\n",
       " -0.0020670678296998563,\n",
       " 0.0021936260366525878,\n",
       " -1.5921731054566179e-05,\n",
       " 0.00075507614818566549,\n",
       " -0.0013994612485722924,\n",
       " -0.0007730263243755503,\n",
       " -0.00047698105727934925,\n",
       " -2.2395985997181178e-05,\n",
       " -0.00057993236944116344,\n",
       " -0.00072472554969151004,\n",
       " 0.00116112169271744,\n",
       " 0.0011816171364720102,\n",
       " 0.0020008953259334633,\n",
       " -0.0011373988326371237,\n",
       " -0.00090390063812809118,\n",
       " -0.0015439287027892434,\n",
       " 5.3234320855494177e-05,\n",
       " -0.00057998353059823815,\n",
       " 0.00031465210621146877,\n",
       " -0.00090365676994601241,\n",
       " 3.9134684936006914e-05,\n",
       " 0.00021134437132203088,\n",
       " -0.0016951773788912716,\n",
       " -0.0010618879018176319,\n",
       " 0.00089266346894718851,\n",
       " -5.7282684266593553e-05,\n",
       " 0.0012643475697555473,\n",
       " 0.00036277893296143837,\n",
       " -0.0015785357200666233,\n",
       " -0.00066302945768376143,\n",
       " -0.0012202605795571669,\n",
       " 0.00089929120736102763,\n",
       " -0.00011914590272078807,\n",
       " -0.0011101989087330955,\n",
       " -0.0013167615119829973,\n",
       " 0.0017738014661190238,\n",
       " 0.00043153763321819583,\n",
       " 0.00019770177507244524,\n",
       " -0.00012618293039126649,\n",
       " 0.0010095950409952786,\n",
       " -0.00010552718167784747,\n",
       " -0.00075897784961313774,\n",
       " 0.00017697610611101811,\n",
       " 0.00014923387394194521,\n",
       " -2.9630836808361427e-05,\n",
       " 0.0021935032498756057,\n",
       " -0.0003395574522204875,\n",
       " 0.0002662336608661442,\n",
       " 0.00036941519823480151,\n",
       " 4.5794825416001217e-05,\n",
       " -0.0022938803031503641,\n",
       " -0.00053891931209727739,\n",
       " -4.3409862810150912e-05,\n",
       " 0.00047280308560367079,\n",
       " 0.00067927871488653035,\n",
       " -0.0011034330351951255,\n",
       " 0.00038300663332729856,\n",
       " -0.0007247750054766855,\n",
       " -0.00084868562255056845,\n",
       " -0.0027825471371639154,\n",
       " -0.00082791390854776437,\n",
       " 0.00016995613215957384,\n",
       " -0.00075909210953060968,\n",
       " -0.0010688089641987253,\n",
       " 0.00076915020352660846,\n",
       " 0.00096154666135282729,\n",
       " 0.0013055379857773025,\n",
       " 0.0013398619113188515,\n",
       " -0.00026363723214437029,\n",
       " 1.8605133743382352e-05,\n",
       " -0.00091764214594802773,\n",
       " -0.0003186254332588484,\n",
       " -0.0012479891687510181,\n",
       " 0.00083747573932009545,\n",
       " 0.0010301808694606895,\n",
       " 4.8056432787602077e-06,\n",
       " 0.00058953512913914596,\n",
       " 0.00064499230752684822,\n",
       " ...]"
      ]
     },
     "execution_count": 28,
     "metadata": {},
     "output_type": "execute_result"
    }
   ],
   "source": [
    "# Sampling distribution \n",
    "p_diffs = []\n",
    "for _ in range(10000):\n",
    "    old_page_converted = np.random.binomial(1, p_old, n_old)\n",
    "    old_page_converted_mean = old_page_converted.mean()\n",
    "    new_page_converted = np.random.binomial(1, p_new, n_new)\n",
    "    new_page_converted_mean = new_page_converted.mean()\n",
    "    p_diffs.append(new_page_converted_mean - old_page_converted_mean)\n",
    "p_diffs"
   ]
  },
  {
   "cell_type": "markdown",
   "metadata": {},
   "source": [
    "**i. Histogram**<br> \n",
    "Plot a histogram of the **p_diffs**.  Does this plot look like what you expected?  Use the matching problem in the classroom to assure you fully understand what was computed here.<br><br>\n",
    "\n",
    "Also, use `plt.axvline()` method to mark the actual difference observed  in the `df2` data (recall `obs_diff`), in the chart.  \n",
    "\n"
   ]
  },
  {
   "cell_type": "code",
   "execution_count": 29,
   "metadata": {},
   "outputs": [
    {
     "data": {
      "text/plain": [
       "<matplotlib.lines.Line2D at 0x7fef3e6a7e10>"
      ]
     },
     "execution_count": 29,
     "metadata": {},
     "output_type": "execute_result"
    },
    {
     "data": {
      "image/png": "[encoded data removed]",
      "text/plain": [
       "<matplotlib.figure.Figure at 0x7fef3e718048>"
      ]
     },
     "metadata": {
      "needs_background": "light"
     },
     "output_type": "display_data"
    }
   ],
   "source": [
    "plt.title('Distribution of difference between P(new) and P(old)')\n",
    "plt.xlabel('Difference between P(new) and P(old)')\n",
    "plt.ylabel('Frequency')\n",
    "plt.hist(p_diffs);\n",
    "plt.axvline(obs_diff, c='red')\n"
   ]
  },
  {
   "cell_type": "markdown",
   "metadata": {},
   "source": [
    "**j.** What proportion of the **p_diffs** are greater than the actual difference observed in the `df2` data?"
   ]
  },
  {
   "cell_type": "code",
   "execution_count": 30,
   "metadata": {},
   "outputs": [
    {
     "data": {
      "text/plain": [
       "0.90649999999999997"
      ]
     },
     "execution_count": 30,
     "metadata": {},
     "output_type": "execute_result"
    }
   ],
   "source": [
    "(p_diffs > obs_diff).mean()"
   ]
  },
  {
   "cell_type": "markdown",
   "metadata": {},
   "source": [
    "**k.** Please explain in words what you have just computed in part **j** above.  \n",
    " - What is this value called in scientific studies?  \n",
    " - What does this value signify in terms of whether or not there is a difference between the new and old pages? *Hint*: Compare the value above with the \"Type I error rate (0.05)\". "
   ]
  },
  {
   "cell_type": "markdown",
   "metadata": {},
   "source": [
    ">**This value is called the p-value. The p-value is the probability of observing the observed difference (obs_diff)  (or one more extreme in favor of the alternative) if the null hypothesis is true. This means, if Pnew - Pold = 0 . Since this value is 0.9 , and greater than 0.05, there is not enough evidence to reject the null hypothesis. Hence, The new page's conversion rate is the same or less than the old one.\n",
    "**"
   ]
  },
  {
   "cell_type": "markdown",
   "metadata": {},
   "source": [
    "\n",
    "\n",
    "**l. Using Built-in Methods for Hypothesis Testing**<br>\n",
    "We could also use a built-in to achieve similar results.  Though using the built-in might be easier to code, the above portions are a walkthrough of the ideas that are critical to correctly thinking about statistical significance. \n",
    "\n",
    "Fill in the statements below to calculate the:\n",
    "- `convert_old`: number of conversions with the old_page\n",
    "- `convert_new`: number of conversions with the new_page\n",
    "- `n_old`: number of individuals who were shown the old_page\n",
    "- `n_new`: number of individuals who were shown the new_page\n"
   ]
  },
  {
   "cell_type": "code",
   "execution_count": 52,
   "metadata": {},
   "outputs": [],
   "source": [
    "import statsmodels.api as sm\n",
    "\n",
    "# number of conversions with the old_page\n",
    "convert_old = df2.query(\" landing_page == 'old_page' and converted == 1\").shape[0]\n",
    "# number of conversions with the new_page\n",
    "convert_new = df2.query(\" landing_page == 'new_page' and converted == 1\").shape[0]\n",
    "# number of individuals who were shown the old_page\n",
    "n_old = df2[df2['group'] == 'control'].shape[0]\n",
    "# number of individuals who received new_page\n",
    "n_new = df2[df2['group'] == 'treatment'].shape[0]\n"
   ]
  },
  {
   "cell_type": "markdown",
   "metadata": {},
   "source": [
    "**m.** Now use `sm.stats.proportions_ztest()` to compute your test statistic and p-value.  [Here](https://www.statsmodels.org/stable/generated/statsmodels.stats.proportion.proportions_ztest.html) is a helpful link on using the built in.\n",
    "\n",
    "The syntax is: \n",
    "```bash\n",
    "proportions_ztest(count_array, nobs_array, alternative='larger')\n",
    "```\n",
    "where, \n",
    "- `count_array` = represents the number of \"converted\" for each group\n",
    "- `nobs_array` = represents the total number of observations (rows) in each group\n",
    "- `alternative` = choose one of the values from `[‘two-sided’, ‘smaller’, ‘larger’]` depending upon two-tailed, left-tailed, or right-tailed respectively. \n",
    "\n",
    "\n",
    "The built-in function above will return the z_score, p_value. \n",
    "\n",
    "---\n",
    "### About the two-sample z-test\n",
    "Recall that you have plotted a distribution `p_diffs` representing the\n",
    "difference in the \"converted\" probability  $(p{'}_{new}-p{'}_{old})$  for your two simulated samples 10,000 times. \n",
    "\n",
    "Another way for comparing the mean of two independent and normal distribution is a **two-sample z-test**. You can perform the Z-test to calculate the Z_score, as shown in the equation below:\n",
    "\n",
    "$$\n",
    "Z_{score} = \\frac{ (p{'}_{new}-p{'}_{old}) - (p_{new}  -  p_{old})}{ \\sqrt{ \\frac{\\sigma^{2}_{new} }{n_{new}} + \\frac{\\sigma^{2}_{old} }{n_{old}}  } }\n",
    "$$\n",
    "\n",
    "where,\n",
    "- $p{'}$ is the \"converted\" success rate in the sample\n",
    "- $p_{new}$ and $p_{old}$ are the \"converted\" success rate for the two groups in the population. \n",
    "- $\\sigma_{new}$ and $\\sigma_{new}$ are the standard deviation for the two groups in the population. \n",
    "- $n_{new}$ and $n_{old}$ represent the size of the two groups or samples (it's same in our case)\n",
    "\n",
    "\n",
    ">Z-test is performed when the sample size is large, and the population variance is known. The z-score represents the distance between the two \"converted\" success rates in terms of the standard error. \n",
    "\n",
    "Next step is to make a decision to reject or fail to reject the null hypothesis based on comparing these two values: \n",
    "- $Z_{score}$\n",
    "- $Z_{\\alpha}$ or $Z_{0.05}$, also known as critical value at 95% confidence interval.  $Z_{0.05}$ is 1.645 for one-tailed tests,  and 1.960 for two-tailed test. You can determine the $Z_{\\alpha}$ from the z-table manually. \n",
    "\n",
    "Decide if your hypothesis is either a two-tailed, left-tailed, or right-tailed test. Accordingly, reject OR fail to reject the  null based on the comparison between $Z_{score}$ and $Z_{\\alpha}$. We determine whether or not the $Z_{score}$ lies in the \"rejection region\" in the distribution. In other words, a \"rejection region\" is an interval where the null hypothesis is rejected iff the $Z_{score}$ lies in that region.\n",
    "\n",
    "\n",
    "\n",
    "\n",
    "\n",
    "Reference: \n",
    "- Example 9.1.2 on this [page](https://stats.libretexts.org/Bookshelves/Introductory_Statistics/Book%3A_Introductory_Statistics_(Shafer_and_Zhang)/09%3A_Two-Sample_Problems/9.01%3A_Comparison_of_Two_Population_Means-_Large_Independent_Samples), courtesy www.stats.libretexts.org\n",
    "\n",
    "---\n"
   ]
  },
  {
   "cell_type": "code",
   "execution_count": 37,
   "metadata": {},
   "outputs": [
    {
     "name": "stdout",
     "output_type": "stream",
     "text": [
      "-1.26169574219 0.896470855197\n"
     ]
    }
   ],
   "source": [
    "import statsmodels.api as sm\n",
    "# ToDo: Complete the sm.stats.proportions_ztest() method arguments\n",
    "count_array = [convert_new, convert_old]\n",
    "nobs_array = [n_new, n_old]\n",
    "z_score, p_value = sm.stats.proportions_ztest(count_array, nobs_array, alternative='larger')\n",
    "print(z_score, p_value)"
   ]
  },
  {
   "cell_type": "markdown",
   "metadata": {},
   "source": [
    "**n.** What do the z-score and p-value you computed in the previous question mean for the conversion rates of the old and new pages?  Do they agree with the findings in parts **j.** and **k.**?<br><br>\n"
   ]
  },
  {
   "cell_type": "markdown",
   "metadata": {},
   "source": [
    ">** I am using a right-tailed, because I am using 𝐻1  as  (𝑝𝑛𝑒𝑤>𝑝𝑜𝑙𝑑). For a right-tailed test, I have to reject null if  𝑍𝑠𝑐𝑜𝑟𝑒  >  𝑍𝛼 . In this case, 𝑍𝑠𝑐𝑜𝑟𝑒 is -1.26169574219 and 𝑍0.05  is 1.645. Hence, I fail to reject the null hypothesis. Regarding the p-value, since it is 0.896470855197 (Greater than 0,05), it also suggests that we should fail to reject the null hypothesis. This p-value is very similar to the one found on parts j and k and the general findings are similar to those in j and k. **"
   ]
  },
  {
   "cell_type": "markdown",
   "metadata": {},
   "source": [
    "<a id='regression'></a>\n",
    "### Part III - A regression approach\n",
    "\n",
    "### ToDo 3.1 \n",
    "In this final part, you will see that the result you achieved in the A/B test in Part II above can also be achieved by performing regression.<br><br> \n",
    "\n",
    "**a.** Since each row in the `df2` data is either a conversion or no conversion, what type of regression should you be performing in this case?"
   ]
  },
  {
   "cell_type": "markdown",
   "metadata": {},
   "source": [
    ">** Logistic regression **"
   ]
  },
  {
   "cell_type": "markdown",
   "metadata": {},
   "source": [
    "**b.** The goal is to use **statsmodels** library to fit the regression model you specified in part **a.** above to see if there is a significant difference in conversion based on the page-type a customer receives. However, you first need to create the following two columns in the `df2` dataframe:\n",
    " 1. `intercept` - It should be `1` in the entire column. \n",
    " 2. `ab_page` - It's a dummy variable column, having a value `1` when an individual receives the **treatment**, otherwise `0`.  "
   ]
  },
  {
   "cell_type": "code",
   "execution_count": 38,
   "metadata": {},
   "outputs": [
    {
     "data": {
      "text/html": [
       "<div>\n",
       "<style scoped>\n",
       "    .dataframe tbody tr th:only-of-type {\n",
       "        vertical-align: middle;\n",
       "    }\n",
       "\n",
       "    .dataframe tbody tr th {\n",
       "        vertical-align: top;\n",
       "    }\n",
       "\n",
       "    .dataframe thead th {\n",
       "        text-align: right;\n",
       "    }\n",
       "</style>\n",
       "<table border=\"1\" class=\"dataframe\">\n",
       "  <thead>\n",
       "    <tr style=\"text-align: right;\">\n",
       "      <th></th>\n",
       "      <th>user_id</th>\n",
       "      <th>timestamp</th>\n",
       "      <th>group</th>\n",
       "      <th>landing_page</th>\n",
       "      <th>converted</th>\n",
       "      <th>intercept</th>\n",
       "      <th>ab_page</th>\n",
       "    </tr>\n",
       "  </thead>\n",
       "  <tbody>\n",
       "    <tr>\n",
       "      <th>0</th>\n",
       "      <td>851104</td>\n",
       "      <td>2017-01-21 22:11:48.556739</td>\n",
       "      <td>control</td>\n",
       "      <td>old_page</td>\n",
       "      <td>0</td>\n",
       "      <td>1</td>\n",
       "      <td>0</td>\n",
       "    </tr>\n",
       "    <tr>\n",
       "      <th>1</th>\n",
       "      <td>804228</td>\n",
       "      <td>2017-01-12 08:01:45.159739</td>\n",
       "      <td>control</td>\n",
       "      <td>old_page</td>\n",
       "      <td>0</td>\n",
       "      <td>1</td>\n",
       "      <td>0</td>\n",
       "    </tr>\n",
       "    <tr>\n",
       "      <th>2</th>\n",
       "      <td>661590</td>\n",
       "      <td>2017-01-11 16:55:06.154213</td>\n",
       "      <td>treatment</td>\n",
       "      <td>new_page</td>\n",
       "      <td>0</td>\n",
       "      <td>1</td>\n",
       "      <td>1</td>\n",
       "    </tr>\n",
       "    <tr>\n",
       "      <th>3</th>\n",
       "      <td>853541</td>\n",
       "      <td>2017-01-08 18:28:03.143765</td>\n",
       "      <td>treatment</td>\n",
       "      <td>new_page</td>\n",
       "      <td>0</td>\n",
       "      <td>1</td>\n",
       "      <td>1</td>\n",
       "    </tr>\n",
       "    <tr>\n",
       "      <th>4</th>\n",
       "      <td>864975</td>\n",
       "      <td>2017-01-21 01:52:26.210827</td>\n",
       "      <td>control</td>\n",
       "      <td>old_page</td>\n",
       "      <td>1</td>\n",
       "      <td>1</td>\n",
       "      <td>0</td>\n",
       "    </tr>\n",
       "  </tbody>\n",
       "</table>\n",
       "</div>"
      ],
      "text/plain": [
       "   user_id                   timestamp      group landing_page  converted  \\\n",
       "0   851104  2017-01-21 22:11:48.556739    control     old_page          0   \n",
       "1   804228  2017-01-12 08:01:45.159739    control     old_page          0   \n",
       "2   661590  2017-01-11 16:55:06.154213  treatment     new_page          0   \n",
       "3   853541  2017-01-08 18:28:03.143765  treatment     new_page          0   \n",
       "4   864975  2017-01-21 01:52:26.210827    control     old_page          1   \n",
       "\n",
       "   intercept  ab_page  \n",
       "0          1        0  \n",
       "1          1        0  \n",
       "2          1        1  \n",
       "3          1        1  \n",
       "4          1        0  "
      ]
     },
     "execution_count": 38,
     "metadata": {},
     "output_type": "execute_result"
    }
   ],
   "source": [
    "df2['intercept'] = 1\n",
    "df2['ab_page'] = pd.get_dummies(df2['group'])['treatment']\n",
    "df2.head()"
   ]
  },
  {
   "cell_type": "markdown",
   "metadata": {},
   "source": [
    "**c.** Use **statsmodels** to instantiate your regression model on the two columns you created in part (b). above, then fit the model to predict whether or not an individual converts. \n"
   ]
  },
  {
   "cell_type": "code",
   "execution_count": 39,
   "metadata": {},
   "outputs": [
    {
     "name": "stdout",
     "output_type": "stream",
     "text": [
      "Optimization terminated successfully.\n",
      "         Current function value: 0.366118\n",
      "         Iterations 6\n"
     ]
    }
   ],
   "source": [
    "log_mod = sm.Logit(df2['converted'], df2[['intercept', 'ab_page']])\n",
    "results = log_mod.fit()"
   ]
  },
  {
   "cell_type": "markdown",
   "metadata": {},
   "source": [
    "**d.** Provide the summary of your model below, and use it as necessary to answer the following questions."
   ]
  },
  {
   "cell_type": "code",
   "execution_count": 40,
   "metadata": {},
   "outputs": [
    {
     "data": {
      "text/html": [
       "<table class=\"simpletable\">\n",
       "<tr>\n",
       "        <td>Model:</td>              <td>Logit</td>       <td>No. Iterations:</td>    <td>6.0000</td>   \n",
       "</tr>\n",
       "<tr>\n",
       "  <td>Dependent Variable:</td>     <td>converted</td>    <td>Pseudo R-squared:</td>    <td>0.000</td>   \n",
       "</tr>\n",
       "<tr>\n",
       "         <td>Date:</td>        <td>2022-12-09 00:36</td>       <td>AIC:</td>        <td>212780.3502</td>\n",
       "</tr>\n",
       "<tr>\n",
       "   <td>No. Observations:</td>       <td>290584</td>            <td>BIC:</td>        <td>212801.5095</td>\n",
       "</tr>\n",
       "<tr>\n",
       "       <td>Df Model:</td>              <td>1</td>         <td>Log-Likelihood:</td>  <td>-1.0639e+05</td>\n",
       "</tr>\n",
       "<tr>\n",
       "     <td>Df Residuals:</td>         <td>290582</td>          <td>LL-Null:</td>      <td>-1.0639e+05</td>\n",
       "</tr>\n",
       "<tr>\n",
       "      <td>Converged:</td>           <td>1.0000</td>           <td>Scale:</td>         <td>1.0000</td>   \n",
       "</tr>\n",
       "</table>\n",
       "<table class=\"simpletable\">\n",
       "<tr>\n",
       "      <td></td>       <th>Coef.</th>  <th>Std.Err.</th>     <th>z</th>      <th>P>|z|</th> <th>[0.025</th>  <th>0.975]</th> \n",
       "</tr>\n",
       "<tr>\n",
       "  <th>intercept</th> <td>-1.9888</td>  <td>0.0081</td>  <td>-246.6690</td> <td>0.0000</td> <td>-2.0046</td> <td>-1.9730</td>\n",
       "</tr>\n",
       "<tr>\n",
       "  <th>ab_page</th>   <td>-0.0150</td>  <td>0.0114</td>   <td>-1.3109</td>  <td>0.1899</td> <td>-0.0374</td> <td>0.0074</td> \n",
       "</tr>\n",
       "</table>"
      ],
      "text/plain": [
       "<class 'statsmodels.iolib.summary2.Summary'>\n",
       "\"\"\"\n",
       "                          Results: Logit\n",
       "==================================================================\n",
       "Model:              Logit            No. Iterations:   6.0000     \n",
       "Dependent Variable: converted        Pseudo R-squared: 0.000      \n",
       "Date:               2022-12-09 00:36 AIC:              212780.3502\n",
       "No. Observations:   290584           BIC:              212801.5095\n",
       "Df Model:           1                Log-Likelihood:   -1.0639e+05\n",
       "Df Residuals:       290582           LL-Null:          -1.0639e+05\n",
       "Converged:          1.0000           Scale:            1.0000     \n",
       "-------------------------------------------------------------------\n",
       "              Coef.   Std.Err.      z      P>|z|    [0.025   0.975]\n",
       "-------------------------------------------------------------------\n",
       "intercept    -1.9888    0.0081  -246.6690  0.0000  -2.0046  -1.9730\n",
       "ab_page      -0.0150    0.0114    -1.3109  0.1899  -0.0374   0.0074\n",
       "==================================================================\n",
       "\n",
       "\"\"\""
      ]
     },
     "execution_count": 40,
     "metadata": {},
     "output_type": "execute_result"
    }
   ],
   "source": [
    "results.summary2()"
   ]
  },
  {
   "cell_type": "markdown",
   "metadata": {},
   "source": [
    "**e.** What is the p-value associated with **ab_page**? Why does it differ from the value you found in **Part II**?<br><br>  \n"
   ]
  },
  {
   "cell_type": "markdown",
   "metadata": {},
   "source": [
    ">**The p-value associated with the ab_page is 0.1899 . It differs from the value found in part 2 because in part 2 we did a one sided test. However, in part 3 we did a two sided test.**"
   ]
  },
  {
   "cell_type": "markdown",
   "metadata": {},
   "source": [
    "**f.** Now, you are considering other things that might influence whether or not an individual converts.  Discuss why it is a good idea to consider other factors to add into your regression model.  Are there any disadvantages to adding additional terms into your regression model?"
   ]
  },
  {
   "cell_type": "markdown",
   "metadata": {},
   "source": [
    ">**It is a good idea to consider other factors because there may be several explanatory variables that have a correlation with the response variable. When this hapens, using more variables may lead to better results. However, a disadvantage of using more variables is that it may lead to multicollinearity. Multicollinearity is when we have predictor variables that are correlated with one another. One of the main concerns of multicollinearity is that it can lead to coefficients being flipped from the direction we expect from simple linear regression. Another disadvantage, is that the new factors considered may have large outliers that may distort our results.**"
   ]
  },
  {
   "cell_type": "markdown",
   "metadata": {},
   "source": [
    "**g. Adding countries**<br> \n",
    "Now along with testing if the conversion rate changes for different pages, also add an effect based on which country a user lives in. \n",
    "\n",
    "1. You will need to read in the **countries.csv** dataset and merge together your `df2` datasets on the appropriate rows. You call the resulting dataframe `df_merged`. [Here](https://pandas.pydata.org/pandas-docs/stable/reference/api/pandas.DataFrame.join.html) are the docs for joining tables. \n",
    "\n",
    "2. Does it appear that country had an impact on conversion?  To answer this question, consider the three unique values, `['UK', 'US', 'CA']`, in the `country` column. Create dummy variables for these country columns. \n",
    "\n",
    "\n",
    " Provide the statistical output as well as a written response to answer this question."
   ]
  },
  {
   "cell_type": "code",
   "execution_count": 41,
   "metadata": {},
   "outputs": [
    {
     "data": {
      "text/html": [
       "<div>\n",
       "<style scoped>\n",
       "    .dataframe tbody tr th:only-of-type {\n",
       "        vertical-align: middle;\n",
       "    }\n",
       "\n",
       "    .dataframe tbody tr th {\n",
       "        vertical-align: top;\n",
       "    }\n",
       "\n",
       "    .dataframe thead th {\n",
       "        text-align: right;\n",
       "    }\n",
       "</style>\n",
       "<table border=\"1\" class=\"dataframe\">\n",
       "  <thead>\n",
       "    <tr style=\"text-align: right;\">\n",
       "      <th></th>\n",
       "      <th>user_id</th>\n",
       "      <th>country</th>\n",
       "    </tr>\n",
       "  </thead>\n",
       "  <tbody>\n",
       "    <tr>\n",
       "      <th>0</th>\n",
       "      <td>834778</td>\n",
       "      <td>UK</td>\n",
       "    </tr>\n",
       "    <tr>\n",
       "      <th>1</th>\n",
       "      <td>928468</td>\n",
       "      <td>US</td>\n",
       "    </tr>\n",
       "    <tr>\n",
       "      <th>2</th>\n",
       "      <td>822059</td>\n",
       "      <td>UK</td>\n",
       "    </tr>\n",
       "    <tr>\n",
       "      <th>3</th>\n",
       "      <td>711597</td>\n",
       "      <td>UK</td>\n",
       "    </tr>\n",
       "    <tr>\n",
       "      <th>4</th>\n",
       "      <td>710616</td>\n",
       "      <td>UK</td>\n",
       "    </tr>\n",
       "  </tbody>\n",
       "</table>\n",
       "</div>"
      ],
      "text/plain": [
       "   user_id country\n",
       "0   834778      UK\n",
       "1   928468      US\n",
       "2   822059      UK\n",
       "3   711597      UK\n",
       "4   710616      UK"
      ]
     },
     "execution_count": 41,
     "metadata": {},
     "output_type": "execute_result"
    }
   ],
   "source": [
    "# Read the countries.csv\n",
    "df3 = pd.read_csv('countries.csv')\n",
    "df3.head()"
   ]
  },
  {
   "cell_type": "code",
   "execution_count": 42,
   "metadata": {},
   "outputs": [
    {
     "data": {
      "text/html": [
       "<div>\n",
       "<style scoped>\n",
       "    .dataframe tbody tr th:only-of-type {\n",
       "        vertical-align: middle;\n",
       "    }\n",
       "\n",
       "    .dataframe tbody tr th {\n",
       "        vertical-align: top;\n",
       "    }\n",
       "\n",
       "    .dataframe thead th {\n",
       "        text-align: right;\n",
       "    }\n",
       "</style>\n",
       "<table border=\"1\" class=\"dataframe\">\n",
       "  <thead>\n",
       "    <tr style=\"text-align: right;\">\n",
       "      <th></th>\n",
       "      <th>user_id</th>\n",
       "      <th>timestamp</th>\n",
       "      <th>group</th>\n",
       "      <th>landing_page</th>\n",
       "      <th>converted</th>\n",
       "      <th>intercept</th>\n",
       "      <th>ab_page</th>\n",
       "      <th>country</th>\n",
       "    </tr>\n",
       "  </thead>\n",
       "  <tbody>\n",
       "    <tr>\n",
       "      <th>0</th>\n",
       "      <td>851104</td>\n",
       "      <td>2017-01-21 22:11:48.556739</td>\n",
       "      <td>control</td>\n",
       "      <td>old_page</td>\n",
       "      <td>0</td>\n",
       "      <td>1</td>\n",
       "      <td>0</td>\n",
       "      <td>US</td>\n",
       "    </tr>\n",
       "    <tr>\n",
       "      <th>1</th>\n",
       "      <td>804228</td>\n",
       "      <td>2017-01-12 08:01:45.159739</td>\n",
       "      <td>control</td>\n",
       "      <td>old_page</td>\n",
       "      <td>0</td>\n",
       "      <td>1</td>\n",
       "      <td>0</td>\n",
       "      <td>US</td>\n",
       "    </tr>\n",
       "    <tr>\n",
       "      <th>2</th>\n",
       "      <td>661590</td>\n",
       "      <td>2017-01-11 16:55:06.154213</td>\n",
       "      <td>treatment</td>\n",
       "      <td>new_page</td>\n",
       "      <td>0</td>\n",
       "      <td>1</td>\n",
       "      <td>1</td>\n",
       "      <td>US</td>\n",
       "    </tr>\n",
       "    <tr>\n",
       "      <th>3</th>\n",
       "      <td>853541</td>\n",
       "      <td>2017-01-08 18:28:03.143765</td>\n",
       "      <td>treatment</td>\n",
       "      <td>new_page</td>\n",
       "      <td>0</td>\n",
       "      <td>1</td>\n",
       "      <td>1</td>\n",
       "      <td>US</td>\n",
       "    </tr>\n",
       "    <tr>\n",
       "      <th>4</th>\n",
       "      <td>864975</td>\n",
       "      <td>2017-01-21 01:52:26.210827</td>\n",
       "      <td>control</td>\n",
       "      <td>old_page</td>\n",
       "      <td>1</td>\n",
       "      <td>1</td>\n",
       "      <td>0</td>\n",
       "      <td>US</td>\n",
       "    </tr>\n",
       "  </tbody>\n",
       "</table>\n",
       "</div>"
      ],
      "text/plain": [
       "   user_id                   timestamp      group landing_page  converted  \\\n",
       "0   851104  2017-01-21 22:11:48.556739    control     old_page          0   \n",
       "1   804228  2017-01-12 08:01:45.159739    control     old_page          0   \n",
       "2   661590  2017-01-11 16:55:06.154213  treatment     new_page          0   \n",
       "3   853541  2017-01-08 18:28:03.143765  treatment     new_page          0   \n",
       "4   864975  2017-01-21 01:52:26.210827    control     old_page          1   \n",
       "\n",
       "   intercept  ab_page country  \n",
       "0          1        0      US  \n",
       "1          1        0      US  \n",
       "2          1        1      US  \n",
       "3          1        1      US  \n",
       "4          1        0      US  "
      ]
     },
     "execution_count": 42,
     "metadata": {},
     "output_type": "execute_result"
    }
   ],
   "source": [
    "# Join with the df2 dataframe\n",
    "df_merged = df2.join(df3.set_index('user_id'), on='user_id')\n",
    "df_merged.head()"
   ]
  },
  {
   "cell_type": "code",
   "execution_count": 43,
   "metadata": {},
   "outputs": [
    {
     "data": {
      "text/html": [
       "<div>\n",
       "<style scoped>\n",
       "    .dataframe tbody tr th:only-of-type {\n",
       "        vertical-align: middle;\n",
       "    }\n",
       "\n",
       "    .dataframe tbody tr th {\n",
       "        vertical-align: top;\n",
       "    }\n",
       "\n",
       "    .dataframe thead th {\n",
       "        text-align: right;\n",
       "    }\n",
       "</style>\n",
       "<table border=\"1\" class=\"dataframe\">\n",
       "  <thead>\n",
       "    <tr style=\"text-align: right;\">\n",
       "      <th></th>\n",
       "      <th>user_id</th>\n",
       "      <th>timestamp</th>\n",
       "      <th>group</th>\n",
       "      <th>landing_page</th>\n",
       "      <th>converted</th>\n",
       "      <th>intercept</th>\n",
       "      <th>ab_page</th>\n",
       "      <th>country</th>\n",
       "      <th>CA</th>\n",
       "      <th>UK</th>\n",
       "      <th>US</th>\n",
       "    </tr>\n",
       "  </thead>\n",
       "  <tbody>\n",
       "    <tr>\n",
       "      <th>0</th>\n",
       "      <td>851104</td>\n",
       "      <td>2017-01-21 22:11:48.556739</td>\n",
       "      <td>control</td>\n",
       "      <td>old_page</td>\n",
       "      <td>0</td>\n",
       "      <td>1</td>\n",
       "      <td>0</td>\n",
       "      <td>US</td>\n",
       "      <td>0</td>\n",
       "      <td>0</td>\n",
       "      <td>1</td>\n",
       "    </tr>\n",
       "    <tr>\n",
       "      <th>1</th>\n",
       "      <td>804228</td>\n",
       "      <td>2017-01-12 08:01:45.159739</td>\n",
       "      <td>control</td>\n",
       "      <td>old_page</td>\n",
       "      <td>0</td>\n",
       "      <td>1</td>\n",
       "      <td>0</td>\n",
       "      <td>US</td>\n",
       "      <td>0</td>\n",
       "      <td>0</td>\n",
       "      <td>1</td>\n",
       "    </tr>\n",
       "    <tr>\n",
       "      <th>2</th>\n",
       "      <td>661590</td>\n",
       "      <td>2017-01-11 16:55:06.154213</td>\n",
       "      <td>treatment</td>\n",
       "      <td>new_page</td>\n",
       "      <td>0</td>\n",
       "      <td>1</td>\n",
       "      <td>1</td>\n",
       "      <td>US</td>\n",
       "      <td>0</td>\n",
       "      <td>0</td>\n",
       "      <td>1</td>\n",
       "    </tr>\n",
       "    <tr>\n",
       "      <th>3</th>\n",
       "      <td>853541</td>\n",
       "      <td>2017-01-08 18:28:03.143765</td>\n",
       "      <td>treatment</td>\n",
       "      <td>new_page</td>\n",
       "      <td>0</td>\n",
       "      <td>1</td>\n",
       "      <td>1</td>\n",
       "      <td>US</td>\n",
       "      <td>0</td>\n",
       "      <td>0</td>\n",
       "      <td>1</td>\n",
       "    </tr>\n",
       "    <tr>\n",
       "      <th>4</th>\n",
       "      <td>864975</td>\n",
       "      <td>2017-01-21 01:52:26.210827</td>\n",
       "      <td>control</td>\n",
       "      <td>old_page</td>\n",
       "      <td>1</td>\n",
       "      <td>1</td>\n",
       "      <td>0</td>\n",
       "      <td>US</td>\n",
       "      <td>0</td>\n",
       "      <td>0</td>\n",
       "      <td>1</td>\n",
       "    </tr>\n",
       "  </tbody>\n",
       "</table>\n",
       "</div>"
      ],
      "text/plain": [
       "   user_id                   timestamp      group landing_page  converted  \\\n",
       "0   851104  2017-01-21 22:11:48.556739    control     old_page          0   \n",
       "1   804228  2017-01-12 08:01:45.159739    control     old_page          0   \n",
       "2   661590  2017-01-11 16:55:06.154213  treatment     new_page          0   \n",
       "3   853541  2017-01-08 18:28:03.143765  treatment     new_page          0   \n",
       "4   864975  2017-01-21 01:52:26.210827    control     old_page          1   \n",
       "\n",
       "   intercept  ab_page country  CA  UK  US  \n",
       "0          1        0      US   0   0   1  \n",
       "1          1        0      US   0   0   1  \n",
       "2          1        1      US   0   0   1  \n",
       "3          1        1      US   0   0   1  \n",
       "4          1        0      US   0   0   1  "
      ]
     },
     "execution_count": 43,
     "metadata": {},
     "output_type": "execute_result"
    }
   ],
   "source": [
    "# Create the necessary dummy variables\n",
    "df_merged['intercept'] = 1\n",
    "country_dummies = pd.get_dummies(df_merged['country'])\n",
    "df_merged = df_merged.join(country_dummies)\n",
    "df_merged.head()"
   ]
  },
  {
   "cell_type": "code",
   "execution_count": 44,
   "metadata": {},
   "outputs": [
    {
     "name": "stdout",
     "output_type": "stream",
     "text": [
      "Optimization terminated successfully.\n",
      "         Current function value: 0.366113\n",
      "         Iterations 6\n"
     ]
    },
    {
     "data": {
      "text/html": [
       "<table class=\"simpletable\">\n",
       "<tr>\n",
       "        <td>Model:</td>              <td>Logit</td>       <td>No. Iterations:</td>    <td>6.0000</td>   \n",
       "</tr>\n",
       "<tr>\n",
       "  <td>Dependent Variable:</td>     <td>converted</td>    <td>Pseudo R-squared:</td>    <td>0.000</td>   \n",
       "</tr>\n",
       "<tr>\n",
       "         <td>Date:</td>        <td>2022-12-09 00:36</td>       <td>AIC:</td>        <td>212781.1253</td>\n",
       "</tr>\n",
       "<tr>\n",
       "   <td>No. Observations:</td>       <td>290584</td>            <td>BIC:</td>        <td>212823.4439</td>\n",
       "</tr>\n",
       "<tr>\n",
       "       <td>Df Model:</td>              <td>3</td>         <td>Log-Likelihood:</td>  <td>-1.0639e+05</td>\n",
       "</tr>\n",
       "<tr>\n",
       "     <td>Df Residuals:</td>         <td>290580</td>          <td>LL-Null:</td>      <td>-1.0639e+05</td>\n",
       "</tr>\n",
       "<tr>\n",
       "      <td>Converged:</td>           <td>1.0000</td>           <td>Scale:</td>         <td>1.0000</td>   \n",
       "</tr>\n",
       "</table>\n",
       "<table class=\"simpletable\">\n",
       "<tr>\n",
       "      <td></td>       <th>Coef.</th>  <th>Std.Err.</th>     <th>z</th>      <th>P>|z|</th> <th>[0.025</th>  <th>0.975]</th> \n",
       "</tr>\n",
       "<tr>\n",
       "  <th>intercept</th> <td>-1.9893</td>  <td>0.0089</td>  <td>-223.7628</td> <td>0.0000</td> <td>-2.0067</td> <td>-1.9718</td>\n",
       "</tr>\n",
       "<tr>\n",
       "  <th>CA</th>        <td>-0.0408</td>  <td>0.0269</td>   <td>-1.5161</td>  <td>0.1295</td> <td>-0.0934</td> <td>0.0119</td> \n",
       "</tr>\n",
       "<tr>\n",
       "  <th>UK</th>        <td>0.0099</td>   <td>0.0133</td>   <td>0.7433</td>   <td>0.4573</td> <td>-0.0162</td> <td>0.0359</td> \n",
       "</tr>\n",
       "<tr>\n",
       "  <th>ab_page</th>   <td>-0.0149</td>  <td>0.0114</td>   <td>-1.3069</td>  <td>0.1912</td> <td>-0.0374</td> <td>0.0075</td> \n",
       "</tr>\n",
       "</table>"
      ],
      "text/plain": [
       "<class 'statsmodels.iolib.summary2.Summary'>\n",
       "\"\"\"\n",
       "                          Results: Logit\n",
       "==================================================================\n",
       "Model:              Logit            No. Iterations:   6.0000     \n",
       "Dependent Variable: converted        Pseudo R-squared: 0.000      \n",
       "Date:               2022-12-09 00:36 AIC:              212781.1253\n",
       "No. Observations:   290584           BIC:              212823.4439\n",
       "Df Model:           3                Log-Likelihood:   -1.0639e+05\n",
       "Df Residuals:       290580           LL-Null:          -1.0639e+05\n",
       "Converged:          1.0000           Scale:            1.0000     \n",
       "-------------------------------------------------------------------\n",
       "              Coef.   Std.Err.      z      P>|z|    [0.025   0.975]\n",
       "-------------------------------------------------------------------\n",
       "intercept    -1.9893    0.0089  -223.7628  0.0000  -2.0067  -1.9718\n",
       "CA           -0.0408    0.0269    -1.5161  0.1295  -0.0934   0.0119\n",
       "UK            0.0099    0.0133     0.7433  0.4573  -0.0162   0.0359\n",
       "ab_page      -0.0149    0.0114    -1.3069  0.1912  -0.0374   0.0075\n",
       "==================================================================\n",
       "\n",
       "\"\"\""
      ]
     },
     "execution_count": 44,
     "metadata": {},
     "output_type": "execute_result"
    }
   ],
   "source": [
    "# Fit your model, and summarize the results\n",
    "log_mod = sm.Logit(df_merged['converted'], df_merged[['intercept', 'CA', 'UK', 'ab_page']])\n",
    "results = log_mod.fit()\n",
    "results.summary2()"
   ]
  },
  {
   "cell_type": "code",
   "execution_count": 45,
   "metadata": {
    "scrolled": true
   },
   "outputs": [
    {
     "data": {
      "text/plain": [
       "(0.96002111497165088, 1.0099491671175422, 0.9852104557227469)"
      ]
     },
     "execution_count": 45,
     "metadata": {},
     "output_type": "execute_result"
    }
   ],
   "source": [
    "np.exp(-0.0408), np.exp(0.0099), np.exp(-0.0149)"
   ]
  },
  {
   "cell_type": "code",
   "execution_count": 46,
   "metadata": {
    "scrolled": true
   },
   "outputs": [
    {
     "data": {
      "text/plain": [
       "1.0416437559600236"
      ]
     },
     "execution_count": 46,
     "metadata": {},
     "output_type": "execute_result"
    }
   ],
   "source": [
    "1/(np.exp(-0.0408))"
   ]
  },
  {
   "cell_type": "code",
   "execution_count": 47,
   "metadata": {
    "scrolled": true
   },
   "outputs": [
    {
     "data": {
      "text/plain": [
       "1.0150115583846535"
      ]
     },
     "execution_count": 47,
     "metadata": {},
     "output_type": "execute_result"
    }
   ],
   "source": [
    "1/(np.exp(-0.0149))"
   ]
  },
  {
   "cell_type": "markdown",
   "metadata": {},
   "source": [
    "We can conclude the following:\n",
    "\n",
    ". Conversions are 1.04 times more likely on US than CA, holding all other variables constant. However, since the p-value is larger than 0.05 (It is 0.1295), this is not stadistically significant.\n",
    "\n",
    ". Conversions are 1.01 times more likely on US than UK, holding all other variables constant. However, since the p-value is larger than 0.05 (It is 0.4573), this is not stadistically significant.\n",
    "\n",
    ". Conversions are 1.01 times more likely on the control page, than on the treatment page, holding all other variables constant. However, since the p-value is larger than 0.05 (It is 0.1912), this is not stadistically significant.\n",
    "\n",
    ". We fail to reject the fail the null hypothesis, and page and country don't have an effect on conversions according to our data."
   ]
  },
  {
   "cell_type": "markdown",
   "metadata": {},
   "source": [
    "**h. Fit your model and obtain the results**<br> \n",
    "Though you have now looked at the individual factors of country and page on conversion, we would now like to look at an interaction between page and country to see if are there significant effects on conversion.  **Create the necessary additional columns, and fit the new model.** \n",
    "\n",
    "\n",
    "Provide the summary results (statistical output), and your conclusions (written response) based on the results. \n"
   ]
  },
  {
   "cell_type": "code",
   "execution_count": 54,
   "metadata": {
    "scrolled": true
   },
   "outputs": [
    {
     "data": {
      "text/html": [
       "<div>\n",
       "<style scoped>\n",
       "    .dataframe tbody tr th:only-of-type {\n",
       "        vertical-align: middle;\n",
       "    }\n",
       "\n",
       "    .dataframe tbody tr th {\n",
       "        vertical-align: top;\n",
       "    }\n",
       "\n",
       "    .dataframe thead th {\n",
       "        text-align: right;\n",
       "    }\n",
       "</style>\n",
       "<table border=\"1\" class=\"dataframe\">\n",
       "  <thead>\n",
       "    <tr style=\"text-align: right;\">\n",
       "      <th></th>\n",
       "      <th>user_id</th>\n",
       "      <th>timestamp</th>\n",
       "      <th>group</th>\n",
       "      <th>landing_page</th>\n",
       "      <th>converted</th>\n",
       "      <th>intercept</th>\n",
       "      <th>ab_page</th>\n",
       "      <th>country</th>\n",
       "      <th>CA</th>\n",
       "      <th>UK</th>\n",
       "      <th>US</th>\n",
       "      <th>ab_UK</th>\n",
       "      <th>ab_CA</th>\n",
       "    </tr>\n",
       "  </thead>\n",
       "  <tbody>\n",
       "    <tr>\n",
       "      <th>0</th>\n",
       "      <td>851104</td>\n",
       "      <td>2017-01-21 22:11:48.556739</td>\n",
       "      <td>control</td>\n",
       "      <td>old_page</td>\n",
       "      <td>0</td>\n",
       "      <td>1</td>\n",
       "      <td>0</td>\n",
       "      <td>US</td>\n",
       "      <td>0</td>\n",
       "      <td>0</td>\n",
       "      <td>1</td>\n",
       "      <td>0</td>\n",
       "      <td>0</td>\n",
       "    </tr>\n",
       "    <tr>\n",
       "      <th>1</th>\n",
       "      <td>804228</td>\n",
       "      <td>2017-01-12 08:01:45.159739</td>\n",
       "      <td>control</td>\n",
       "      <td>old_page</td>\n",
       "      <td>0</td>\n",
       "      <td>1</td>\n",
       "      <td>0</td>\n",
       "      <td>US</td>\n",
       "      <td>0</td>\n",
       "      <td>0</td>\n",
       "      <td>1</td>\n",
       "      <td>0</td>\n",
       "      <td>0</td>\n",
       "    </tr>\n",
       "    <tr>\n",
       "      <th>2</th>\n",
       "      <td>661590</td>\n",
       "      <td>2017-01-11 16:55:06.154213</td>\n",
       "      <td>treatment</td>\n",
       "      <td>new_page</td>\n",
       "      <td>0</td>\n",
       "      <td>1</td>\n",
       "      <td>1</td>\n",
       "      <td>US</td>\n",
       "      <td>0</td>\n",
       "      <td>0</td>\n",
       "      <td>1</td>\n",
       "      <td>0</td>\n",
       "      <td>0</td>\n",
       "    </tr>\n",
       "    <tr>\n",
       "      <th>3</th>\n",
       "      <td>853541</td>\n",
       "      <td>2017-01-08 18:28:03.143765</td>\n",
       "      <td>treatment</td>\n",
       "      <td>new_page</td>\n",
       "      <td>0</td>\n",
       "      <td>1</td>\n",
       "      <td>1</td>\n",
       "      <td>US</td>\n",
       "      <td>0</td>\n",
       "      <td>0</td>\n",
       "      <td>1</td>\n",
       "      <td>0</td>\n",
       "      <td>0</td>\n",
       "    </tr>\n",
       "    <tr>\n",
       "      <th>4</th>\n",
       "      <td>864975</td>\n",
       "      <td>2017-01-21 01:52:26.210827</td>\n",
       "      <td>control</td>\n",
       "      <td>old_page</td>\n",
       "      <td>1</td>\n",
       "      <td>1</td>\n",
       "      <td>0</td>\n",
       "      <td>US</td>\n",
       "      <td>0</td>\n",
       "      <td>0</td>\n",
       "      <td>1</td>\n",
       "      <td>0</td>\n",
       "      <td>0</td>\n",
       "    </tr>\n",
       "  </tbody>\n",
       "</table>\n",
       "</div>"
      ],
      "text/plain": [
       "   user_id                   timestamp      group landing_page  converted  \\\n",
       "0   851104  2017-01-21 22:11:48.556739    control     old_page          0   \n",
       "1   804228  2017-01-12 08:01:45.159739    control     old_page          0   \n",
       "2   661590  2017-01-11 16:55:06.154213  treatment     new_page          0   \n",
       "3   853541  2017-01-08 18:28:03.143765  treatment     new_page          0   \n",
       "4   864975  2017-01-21 01:52:26.210827    control     old_page          1   \n",
       "\n",
       "   intercept  ab_page country  CA  UK  US  ab_UK  ab_CA  \n",
       "0          1        0      US   0   0   1      0      0  \n",
       "1          1        0      US   0   0   1      0      0  \n",
       "2          1        1      US   0   0   1      0      0  \n",
       "3          1        1      US   0   0   1      0      0  \n",
       "4          1        0      US   0   0   1      0      0  "
      ]
     },
     "execution_count": 54,
     "metadata": {},
     "output_type": "execute_result"
    }
   ],
   "source": [
    "df_merged['ab_UK'] = df_merged['ab_page'] * df_merged['UK']\n",
    "df_merged['ab_CA'] = df_merged['ab_page'] * df_merged['CA']\n",
    "df_merged.head()"
   ]
  },
  {
   "cell_type": "code",
   "execution_count": 55,
   "metadata": {
    "scrolled": true
   },
   "outputs": [
    {
     "name": "stdout",
     "output_type": "stream",
     "text": [
      "Optimization terminated successfully.\n",
      "         Current function value: 0.366109\n",
      "         Iterations 6\n"
     ]
    },
    {
     "data": {
      "text/html": [
       "<table class=\"simpletable\">\n",
       "<tr>\n",
       "        <td>Model:</td>              <td>Logit</td>       <td>No. Iterations:</td>    <td>6.0000</td>   \n",
       "</tr>\n",
       "<tr>\n",
       "  <td>Dependent Variable:</td>     <td>converted</td>    <td>Pseudo R-squared:</td>    <td>0.000</td>   \n",
       "</tr>\n",
       "<tr>\n",
       "         <td>Date:</td>        <td>2022-12-09 01:00</td>       <td>AIC:</td>        <td>212782.6602</td>\n",
       "</tr>\n",
       "<tr>\n",
       "   <td>No. Observations:</td>       <td>290584</td>            <td>BIC:</td>        <td>212846.1381</td>\n",
       "</tr>\n",
       "<tr>\n",
       "       <td>Df Model:</td>              <td>5</td>         <td>Log-Likelihood:</td>  <td>-1.0639e+05</td>\n",
       "</tr>\n",
       "<tr>\n",
       "     <td>Df Residuals:</td>         <td>290578</td>          <td>LL-Null:</td>      <td>-1.0639e+05</td>\n",
       "</tr>\n",
       "<tr>\n",
       "      <td>Converged:</td>           <td>1.0000</td>           <td>Scale:</td>         <td>1.0000</td>   \n",
       "</tr>\n",
       "</table>\n",
       "<table class=\"simpletable\">\n",
       "<tr>\n",
       "      <td></td>       <th>Coef.</th>  <th>Std.Err.</th>     <th>z</th>      <th>P>|z|</th> <th>[0.025</th>  <th>0.975]</th> \n",
       "</tr>\n",
       "<tr>\n",
       "  <th>intercept</th> <td>-1.9865</td>  <td>0.0096</td>  <td>-206.3440</td> <td>0.0000</td> <td>-2.0053</td> <td>-1.9676</td>\n",
       "</tr>\n",
       "<tr>\n",
       "  <th>CA</th>        <td>-0.0175</td>  <td>0.0377</td>   <td>-0.4652</td>  <td>0.6418</td> <td>-0.0914</td> <td>0.0563</td> \n",
       "</tr>\n",
       "<tr>\n",
       "  <th>UK</th>        <td>-0.0057</td>  <td>0.0188</td>   <td>-0.3057</td>  <td>0.7598</td> <td>-0.0426</td> <td>0.0311</td> \n",
       "</tr>\n",
       "<tr>\n",
       "  <th>ab_page</th>   <td>-0.0206</td>  <td>0.0137</td>   <td>-1.5052</td>  <td>0.1323</td> <td>-0.0473</td> <td>0.0062</td> \n",
       "</tr>\n",
       "<tr>\n",
       "  <th>ab_UK</th>     <td>0.0314</td>   <td>0.0266</td>   <td>1.1807</td>   <td>0.2377</td> <td>-0.0207</td> <td>0.0835</td> \n",
       "</tr>\n",
       "<tr>\n",
       "  <th>ab_CA</th>     <td>-0.0469</td>  <td>0.0538</td>   <td>-0.8718</td>  <td>0.3833</td> <td>-0.1523</td> <td>0.0585</td> \n",
       "</tr>\n",
       "</table>"
      ],
      "text/plain": [
       "<class 'statsmodels.iolib.summary2.Summary'>\n",
       "\"\"\"\n",
       "                          Results: Logit\n",
       "==================================================================\n",
       "Model:              Logit            No. Iterations:   6.0000     \n",
       "Dependent Variable: converted        Pseudo R-squared: 0.000      \n",
       "Date:               2022-12-09 01:00 AIC:              212782.6602\n",
       "No. Observations:   290584           BIC:              212846.1381\n",
       "Df Model:           5                Log-Likelihood:   -1.0639e+05\n",
       "Df Residuals:       290578           LL-Null:          -1.0639e+05\n",
       "Converged:          1.0000           Scale:            1.0000     \n",
       "-------------------------------------------------------------------\n",
       "              Coef.   Std.Err.      z      P>|z|    [0.025   0.975]\n",
       "-------------------------------------------------------------------\n",
       "intercept    -1.9865    0.0096  -206.3440  0.0000  -2.0053  -1.9676\n",
       "CA           -0.0175    0.0377    -0.4652  0.6418  -0.0914   0.0563\n",
       "UK           -0.0057    0.0188    -0.3057  0.7598  -0.0426   0.0311\n",
       "ab_page      -0.0206    0.0137    -1.5052  0.1323  -0.0473   0.0062\n",
       "ab_UK         0.0314    0.0266     1.1807  0.2377  -0.0207   0.0835\n",
       "ab_CA        -0.0469    0.0538    -0.8718  0.3833  -0.1523   0.0585\n",
       "==================================================================\n",
       "\n",
       "\"\"\""
      ]
     },
     "execution_count": 55,
     "metadata": {},
     "output_type": "execute_result"
    }
   ],
   "source": [
    "log_mod = sm.Logit(df_merged['converted'], df_merged[['intercept', 'CA', 'UK', 'ab_page', 'ab_UK', 'ab_CA']])\n",
    "results = log_mod.fit()\n",
    "results.summary2()"
   ]
  },
  {
   "cell_type": "code",
   "execution_count": 56,
   "metadata": {
    "scrolled": true
   },
   "outputs": [
    {
     "data": {
      "text/plain": [
       "(1.0318981806179213, 0.95418281110072622)"
      ]
     },
     "execution_count": 56,
     "metadata": {},
     "output_type": "execute_result"
    }
   ],
   "source": [
    "np.exp(0.0314), np.exp(-0.0469)"
   ]
  },
  {
   "cell_type": "code",
   "execution_count": 58,
   "metadata": {
    "scrolled": false
   },
   "outputs": [
    {
     "data": {
      "text/plain": [
       "1.0480172021191829"
      ]
     },
     "execution_count": 58,
     "metadata": {},
     "output_type": "execute_result"
    }
   ],
   "source": [
    "1/(np.exp(-0.0469))"
   ]
  },
  {
   "cell_type": "markdown",
   "metadata": {},
   "source": [
    "We can conclude the following:\n",
    "\n",
    "\n",
    ". Conversions are 1.03 times more likely when using the new page on the UK than when using the control page in the US, holding all other variables constant. However, since the p-value is larger than 0.05 (It is 0.2377), this is not stadistically significant.\n",
    "\n",
    ". Conversions are 1.05 times more likely when using the control page on the US than when using the new page in CA, holding all other variables constant. However, since the p-value is larger than 0.05 (It is 0.3833), this is not stadistically significant.\n",
    "\n",
    ". We fail to reject the fail the null hypothesis, and page and country combined don't have an effect on conversions according to our data."
   ]
  },
  {
   "cell_type": "markdown",
   "metadata": {},
   "source": [
    "<a id='finalcheck'></a>\n",
    "## Final Check!\n",
    "\n",
    "Congratulations!  You have reached the end of the A/B Test Results project!  You should be very proud of all you have accomplished!\n",
    "\n",
    "\n",
    "\n",
    "<a id='submission'></a>\n",
    "## Submission\n",
    "You may either submit your notebook through the \"SUBMIT PROJECT\" button at the bottom of this workspace, or you may work from your local machine and submit on  the last page of this project lesson.  \n",
    "\n",
    "1. Before you submit your project, you need to create a .html or .pdf version of this notebook in the workspace here. To do that, run the code cell below. If it worked correctly, you should get a return code of 0, and you should see the generated .html file in the workspace directory (click on the orange Jupyter icon in the upper left).\n",
    "\n",
    "\n",
    "2. Alternatively, you can download this report as .html via the **File** > **Download as** submenu, and then manually upload it into the workspace directory by clicking on the orange Jupyter icon in the upper left, then using the Upload button.\n",
    "\n",
    "\n",
    "3. Once you've done this, you can submit your project by clicking on the \"Submit Project\" button in the lower right here. This will create and submit a zip file with this .ipynb doc and the .html or .pdf version you created. Congratulations!"
   ]
  },
  {
   "cell_type": "code",
   "execution_count": 48,
   "metadata": {},
   "outputs": [
    {
     "data": {
      "text/plain": [
       "0"
      ]
     },
     "execution_count": 48,
     "metadata": {},
     "output_type": "execute_result"
    }
   ],
   "source": [
    "from subprocess import call\n",
    "call(['python', '-m', 'nbconvert', 'Analyze_ab_test_results_notebook.ipynb'])"
   ]
  }
 ],
 "metadata": {
  "kernelspec": {
   "display_name": "Python 3",
   "language": "python",
   "name": "python3"
  },
  "language_info": {
   "codemirror_mode": {
    "name": "ipython",
    "version": 3
   },
   "file_extension": ".py",
   "mimetype": "text/x-python",
   "name": "python",
   "nbconvert_exporter": "python",
   "pygments_lexer": "ipython3",
   "version": "3.6.3"
  }
 },
 "nbformat": 4,
 "nbformat_minor": 2
}
